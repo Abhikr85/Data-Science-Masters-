{
 "cells": [
  {
   "cell_type": "markdown",
   "id": "67ca3c12-422a-4ad6-8350-f62556a5f689",
   "metadata": {},
   "source": [
    "Q1. Characteristics of a tuple\n",
    "Tuples are basically a data type in Python. these are hashable index type data. It is basically a ordered collection of elements. \n",
    "Yes, Tuples are immutable data type i.e. once defined, it's value or element can't be modified or altered."
   ]
  },
  {
   "cell_type": "markdown",
   "id": "1c89918f-bf1e-4aab-91db-a2ee7f21c3a3",
   "metadata": {},
   "source": [
    "Q2. The two built in methods in tuple are : count() and index() \n",
    " (a) count() : It returns the number of times a element appear in the tuple.\n",
    "  "
   ]
  },
  {
   "cell_type": "code",
   "execution_count": 2,
   "id": "f6b00f4f-cd45-47ed-9f60-cd66c8e3676d",
   "metadata": {},
   "outputs": [
    {
     "data": {
      "text/plain": [
       "3"
      ]
     },
     "execution_count": 2,
     "metadata": {},
     "output_type": "execute_result"
    }
   ],
   "source": [
    "# Ex :\n",
    "t1 = (1,2,3,4,5,6,7,8,6,9,9,9,9,4,4)\n",
    "t1.count(4)\n"
   ]
  },
  {
   "cell_type": "markdown",
   "id": "d49e5700-51b2-46e6-94c3-64b2e6103bfb",
   "metadata": {},
   "source": [
    "(b) index(): It returns the first occurrence of the given element from the tuple."
   ]
  },
  {
   "cell_type": "code",
   "execution_count": 3,
   "id": "dcb94f25-5554-4422-a146-076ff6c64c8f",
   "metadata": {},
   "outputs": [
    {
     "data": {
      "text/plain": [
       "3"
      ]
     },
     "execution_count": 3,
     "metadata": {},
     "output_type": "execute_result"
    }
   ],
   "source": [
    "# Ex:\n",
    "t1.index (4)"
   ]
  },
  {
   "cell_type": "markdown",
   "id": "cbec51f8-1b86-442c-8a88-5abdec5d039e",
   "metadata": {},
   "source": [
    "Since, tuple is immutable data type which means it is not possible to modify or alter its value or element. hence , There is only two built-in method available for tuple"
   ]
  },
  {
   "cell_type": "markdown",
   "id": "8a1ed56f-01c7-4309-a136-2acd8dab69ef",
   "metadata": {},
   "source": [
    "[Q3] Set is the data type which do not allow duplicate items. let's say we have given a list : l1 = [1, 1, 1, 2, 1, 3, 1, 4, 2, 1, 2, 2, 2, 3, 2, 4, 3, 1, 3, 2, 3, 3, 3, 4, 4, 1, 4, 2, 4, 3, 4, 4] \n",
    "To remove a duplicate item , we can simply typecast it to  set and again typecaList back to list."
   ]
  },
  {
   "cell_type": "code",
   "execution_count": 8,
   "id": "09eefe14-638e-424a-8f03-f81373f9cc7f",
   "metadata": {},
   "outputs": [
    {
     "data": {
      "text/plain": [
       "[1, 2, 3, 4]"
      ]
     },
     "execution_count": 8,
     "metadata": {},
     "output_type": "execute_result"
    }
   ],
   "source": [
    "l1 = [1, 1, 1, 2, 1, 3, 1, 4, 2, 1, 2, 2, 2, 3, 2, 4, 3, 1, 3, 2, 3, 3, 3, 4, 4, 1, 4, 2, 4, 3, 4, 4]\n",
    "list(set(l1))"
   ]
  },
  {
   "cell_type": "markdown",
   "id": "4ee77edf-debb-4bde-b666-9ba31caf13fc",
   "metadata": {},
   "source": [
    "[Q4] union() method returns a new set containing all items from both sets that means it doesn't affect both the  set while  the update() method that inserts all the items from one set into another which means it change the set, which is being updated"
   ]
  },
  {
   "cell_type": "code",
   "execution_count": 15,
   "id": "d13cd431-a34b-48d3-951f-240c835c1439",
   "metadata": {},
   "outputs": [
    {
     "data": {
      "text/plain": [
       "{1, 2, 3, 4, 'a', 'b', 'c', 'd'}"
      ]
     },
     "execution_count": 15,
     "metadata": {},
     "output_type": "execute_result"
    }
   ],
   "source": [
    "# union method example \n",
    "s1 = { 1,2,3,4}\n",
    "s2 = { 'a','b','c','d'}\n",
    "s3= s1.union(s2)\n",
    "s3"
   ]
  },
  {
   "cell_type": "code",
   "execution_count": 16,
   "id": "7a73ada2-ef87-43f0-8009-2305d4d46f2c",
   "metadata": {},
   "outputs": [
    {
     "data": {
      "text/plain": [
       "{1, 2, 3, 4}"
      ]
     },
     "execution_count": 16,
     "metadata": {},
     "output_type": "execute_result"
    }
   ],
   "source": [
    "s1 # same as before "
   ]
  },
  {
   "cell_type": "code",
   "execution_count": 18,
   "id": "c4c11577-b183-45e9-af61-0c391e5f4322",
   "metadata": {},
   "outputs": [
    {
     "data": {
      "text/plain": [
       "{'a', 'b', 'c', 'd'}"
      ]
     },
     "execution_count": 18,
     "metadata": {},
     "output_type": "execute_result"
    }
   ],
   "source": [
    "s2 #same as before"
   ]
  },
  {
   "cell_type": "code",
   "execution_count": 19,
   "id": "432f3a87-5ada-4462-b61d-1d9ee8e16496",
   "metadata": {},
   "outputs": [
    {
     "name": "stdout",
     "output_type": "stream",
     "text": [
      "{'a', 1, 2, 3, 'c', 'b'}\n"
     ]
    }
   ],
   "source": [
    "# update method example\n",
    "set1 = {\"a\", \"b\" , \"c\"}\n",
    "set2 = {1, 2, 3}\n",
    "\n",
    "set1.update(set2)\n",
    "print(set1)\n"
   ]
  },
  {
   "cell_type": "code",
   "execution_count": 20,
   "id": "a653d42b-bb58-464f-86f8-b3c0f6508677",
   "metadata": {},
   "outputs": [
    {
     "data": {
      "text/plain": [
       "{1, 2, 3, 'a', 'b', 'c'}"
      ]
     },
     "execution_count": 20,
     "metadata": {},
     "output_type": "execute_result"
    }
   ],
   "source": [
    "set1 #set1 is changed"
   ]
  },
  {
   "cell_type": "code",
   "execution_count": 21,
   "id": "2917c73f-3a63-479a-9809-5a48fe02d37e",
   "metadata": {},
   "outputs": [
    {
     "data": {
      "text/plain": [
       "{1, 2, 3}"
      ]
     },
     "execution_count": 21,
     "metadata": {},
     "output_type": "execute_result"
    }
   ],
   "source": [
    "set2 #sameas before"
   ]
  },
  {
   "cell_type": "markdown",
   "id": "47109fc0-441a-4547-a5aa-5faeb8bb58d5",
   "metadata": {},
   "source": [
    "[Q5] Dictinary is a data type in Python, which store the element in key- value pair. each key should be unique.\n",
    "Ex : dict1= { \"Abhi\" : \"Tall\", \"Shyam\" : \"Handsome\", \"Ritwik\" : \"Short\"}\n",
    "as per python 3.7 : Dictionary is ordered but as per 3.6 and  older, it is unordered."
   ]
  },
  {
   "cell_type": "code",
   "execution_count": null,
   "id": "9bef6c31-61cb-4a2d-a517-499f04241ab4",
   "metadata": {},
   "outputs": [],
   "source": [
    "[Q6] Yes , we can create a nested dictionary.\n",
    "ex: dict1= {\"Abhi\": \"Burger\", \"Shyam\" : \" Paneer\", \"Aakriti\":{\"Breakfast\" : \"Egg\", \"Lunch\": \"Rice\", \"Dinner\":\"Chicken\"}}"
   ]
  },
  {
   "cell_type": "markdown",
   "id": "730e65a3-d1d9-4816-a835-1bb54b46472c",
   "metadata": {},
   "source": [
    "[Q7]\n",
    "The setdefault() method returns the value of the item with the specified key.\n",
    "\n",
    "If the key does not exist, insert the key, with the specified value."
   ]
  },
  {
   "cell_type": "code",
   "execution_count": 27,
   "id": "f0f703bb-f77f-4fa7-9659-5edc63454574",
   "metadata": {},
   "outputs": [
    {
     "data": {
      "text/plain": [
       "{'language': 'Python',\n",
       " 'course': 'Data Science Masters',\n",
       " 'topics': \"['Python', 'Machine Learning’, 'Deep Learning']\"}"
      ]
     },
     "execution_count": 27,
     "metadata": {},
     "output_type": "execute_result"
    }
   ],
   "source": [
    "dict1 = {'language' : 'Python', 'course': 'Data Science Masters'}\n",
    "dict1.setdefault(\"topics\", \"['Python', 'Machine Learning’, 'Deep Learning']\")\n",
    "dict1"
   ]
  },
  {
   "cell_type": "code",
   "execution_count": 38,
   "id": "b771ae0b-39ae-4780-b8ee-ab740e7331d5",
   "metadata": {},
   "outputs": [
    {
     "ename": "SyntaxError",
     "evalue": "invalid syntax (2356030972.py, line 1)",
     "output_type": "error",
     "traceback": [
      "\u001b[0;36m  Cell \u001b[0;32mIn[38], line 1\u001b[0;36m\u001b[0m\n\u001b[0;31m    [Q8] Three view object in dictionary are : key, value , items\u001b[0m\n\u001b[0m         ^\u001b[0m\n\u001b[0;31mSyntaxError\u001b[0m\u001b[0;31m:\u001b[0m invalid syntax\n"
     ]
    }
   ],
   "source": [
    "[Q8] Three view object in dictionary are : key, value , items"
   ]
  },
  {
   "cell_type": "code",
   "execution_count": 29,
   "id": "8a999e62-0a6e-420a-b392-2fca2bc58d3a",
   "metadata": {},
   "outputs": [],
   "source": [
    "dict1 = {'Sport': 'Cricket' , 'Teams': ['India', 'Australia', 'England', 'South Africa', 'Sri Lanka', 'New Zealand']}"
   ]
  },
  {
   "cell_type": "code",
   "execution_count": 34,
   "id": "b2cabbd3-a0d2-4019-9a00-ac2550dec5da",
   "metadata": {},
   "outputs": [
    {
     "data": {
      "text/plain": [
       "dict_keys(['Sport', 'Teams'])"
      ]
     },
     "execution_count": 34,
     "metadata": {},
     "output_type": "execute_result"
    }
   ],
   "source": [
    "dict1.keys() #shows all the keys as list"
   ]
  },
  {
   "cell_type": "code",
   "execution_count": 36,
   "id": "eb16ceb6-9854-4625-86e3-c68bf9a27f45",
   "metadata": {},
   "outputs": [
    {
     "data": {
      "text/plain": [
       "dict_values(['Cricket', ['India', 'Australia', 'England', 'South Africa', 'Sri Lanka', 'New Zealand']])"
      ]
     },
     "execution_count": 36,
     "metadata": {},
     "output_type": "execute_result"
    }
   ],
   "source": [
    "dict1.values() #shows all the values as list\n"
   ]
  },
  {
   "cell_type": "code",
   "execution_count": 37,
   "id": "7b3c052a-98cd-4b0f-8e67-886c2b7b5ae1",
   "metadata": {},
   "outputs": [
    {
     "data": {
      "text/plain": [
       "dict_items([('Sport', 'Cricket'), ('Teams', ['India', 'Australia', 'England', 'South Africa', 'Sri Lanka', 'New Zealand'])])"
      ]
     },
     "execution_count": 37,
     "metadata": {},
     "output_type": "execute_result"
    }
   ],
   "source": [
    "dict1.items() #show al the items as a tuple inside list"
   ]
  },
  {
   "cell_type": "code",
   "execution_count": null,
   "id": "c2645f28-0fea-4836-83b2-b8b5f8695686",
   "metadata": {},
   "outputs": [],
   "source": []
  }
 ],
 "metadata": {
  "kernelspec": {
   "display_name": "Python 3 (ipykernel)",
   "language": "python",
   "name": "python3"
  },
  "language_info": {
   "codemirror_mode": {
    "name": "ipython",
    "version": 3
   },
   "file_extension": ".py",
   "mimetype": "text/x-python",
   "name": "python",
   "nbconvert_exporter": "python",
   "pygments_lexer": "ipython3",
   "version": "3.10.8"
  }
 },
 "nbformat": 4,
 "nbformat_minor": 5
}
