{
 "cells": [
  {
   "cell_type": "code",
   "execution_count": 1,
   "id": "66dd0d31-a8e3-458c-afa7-cc81d33e22fe",
   "metadata": {},
   "outputs": [
    {
     "data": {
      "text/plain": [
       "range(1, 10)"
      ]
     },
     "execution_count": 1,
     "metadata": {},
     "output_type": "execute_result"
    }
   ],
   "source": [
    "range(1,10)"
   ]
  },
  {
   "cell_type": "code",
   "execution_count": 4,
   "id": "4de25de3-8833-4fc0-8ac6-234f0f7a2185",
   "metadata": {},
   "outputs": [
    {
     "name": "stdout",
     "output_type": "stream",
     "text": [
      "1\n",
      "2\n",
      "3\n",
      "4\n",
      "5\n",
      "6\n",
      "7\n",
      "8\n",
      "9\n"
     ]
    }
   ],
   "source": [
    "for i in range(1,10):\n",
    "    print(i)"
   ]
  },
  {
   "cell_type": "markdown",
   "id": "1864554e-f197-4e7d-bc9f-214ead90f37e",
   "metadata": {},
   "source": [
    "Range function don't give an outut unless called inside an iterator, it  gives data one by one , only remember the last one it produced. while , funtion contain whole set of data and give o/p at once and hence consume more memory."
   ]
  },
  {
   "cell_type": "code",
   "execution_count": 5,
   "id": "e746426a-2e23-49af-9e89-79bfce8e6ebd",
   "metadata": {},
   "outputs": [],
   "source": [
    "l =[1,2,3,4,4,5,6,7,5,7,\"abhi\",\"pwskills\"]"
   ]
  },
  {
   "cell_type": "code",
   "execution_count": 18,
   "id": "3e303903-5e82-4108-a9e6-c58d6d2efb3f",
   "metadata": {},
   "outputs": [],
   "source": [
    "def test1(a):\n",
    "    n = []\n",
    "    for i in a:\n",
    "        if type(i) == int:\n",
    "            n.append(i)\n",
    "    return n"
   ]
  },
  {
   "cell_type": "code",
   "execution_count": 19,
   "id": "d01188a4-4b52-43cf-9f43-309c01e951ee",
   "metadata": {},
   "outputs": [
    {
     "data": {
      "text/plain": [
       "[1, 2, 3, 4, 4, 5, 6, 7, 5, 7]"
      ]
     },
     "execution_count": 19,
     "metadata": {},
     "output_type": "execute_result"
    }
   ],
   "source": [
    "test1(l)"
   ]
  },
  {
   "cell_type": "markdown",
   "id": "d707ba32-d0cc-4cf4-9471-5d60a4b95afd",
   "metadata": {},
   "source": [
    "Fibonacci:\n",
    "    0,1,1,2,3,5,8,13,21,34.....\n",
    " I will not try to give you whole series at once, i will give you o/p one by one.\n",
    "so that it does not end up consuming more memory\n",
    "Yield does the job"
   ]
  },
  {
   "cell_type": "code",
   "execution_count": 23,
   "id": "3492802b-e1e2-48c9-97df-d85e5dfe871c",
   "metadata": {},
   "outputs": [],
   "source": [
    "def test_fib(n):\n",
    "    a,b = 0,1\n",
    "    for i in range(n):\n",
    "        yield a\n",
    "        a,b = b, a+b\n",
    "        # n is no of element we want of the seriesa\n",
    "        "
   ]
  },
  {
   "cell_type": "code",
   "execution_count": 25,
   "id": "0b178140-e8f6-4e84-8846-39b25aafc7ba",
   "metadata": {},
   "outputs": [
    {
     "data": {
      "text/plain": [
       "<generator object test_fib at 0x7fc4501ce2d0>"
      ]
     },
     "execution_count": 25,
     "metadata": {},
     "output_type": "execute_result"
    }
   ],
   "source": [
    "test_fib(10)#generator function, to take the o/p we have to use iterator\n"
   ]
  },
  {
   "cell_type": "code",
   "execution_count": 26,
   "id": "e75f40b3-4bc5-4a49-9455-01f087207b4a",
   "metadata": {},
   "outputs": [
    {
     "name": "stdout",
     "output_type": "stream",
     "text": [
      "0\n",
      "1\n",
      "1\n",
      "2\n",
      "3\n",
      "5\n",
      "8\n",
      "13\n",
      "21\n",
      "34\n"
     ]
    }
   ],
   "source": [
    "for i in test_fib(10) :\n",
    "    print(i)"
   ]
  },
  {
   "cell_type": "code",
   "execution_count": null,
   "id": "4590fc36-2a5d-4d2a-9b30-038dc2a422cc",
   "metadata": {},
   "outputs": [],
   "source": []
  }
 ],
 "metadata": {
  "kernelspec": {
   "display_name": "Python 3 (ipykernel)",
   "language": "python",
   "name": "python3"
  },
  "language_info": {
   "codemirror_mode": {
    "name": "ipython",
    "version": 3
   },
   "file_extension": ".py",
   "mimetype": "text/x-python",
   "name": "python",
   "nbconvert_exporter": "python",
   "pygments_lexer": "ipython3",
   "version": "3.10.8"
  }
 },
 "nbformat": 4,
 "nbformat_minor": 5
}
