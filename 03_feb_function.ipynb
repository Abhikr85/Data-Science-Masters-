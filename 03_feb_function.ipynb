{
 "cells": [
  {
   "cell_type": "code",
   "execution_count": 1,
   "id": "e381f169-a402-4074-8852-e5d47fe05079",
   "metadata": {},
   "outputs": [
    {
     "name": "stdout",
     "output_type": "stream",
     "text": [
      "This is my prog\n"
     ]
    }
   ],
   "source": [
    "print(\"This is my prog\")"
   ]
  },
  {
   "cell_type": "code",
   "execution_count": 2,
   "id": "cd88b184-c242-4e6b-ae97-723187c32025",
   "metadata": {},
   "outputs": [],
   "source": [
    "l = [1,2,3,4]"
   ]
  },
  {
   "cell_type": "code",
   "execution_count": 3,
   "id": "a1f5e848-75a3-4ec0-86b6-b15a345831a7",
   "metadata": {},
   "outputs": [
    {
     "data": {
      "text/plain": [
       "4"
      ]
     },
     "execution_count": 3,
     "metadata": {},
     "output_type": "execute_result"
    }
   ],
   "source": [
    "len(l)"
   ]
  },
  {
   "cell_type": "markdown",
   "id": "4a4e1553-0948-4712-8b70-0c138903ee93",
   "metadata": {},
   "source": [
    "Create a function by def keyword"
   ]
  },
  {
   "cell_type": "code",
   "execution_count": 8,
   "id": "602f5620-09db-4689-acf9-e4939f2bc307",
   "metadata": {},
   "outputs": [
    {
     "ename": "SyntaxError",
     "evalue": "incomplete input (3861551224.py, line 1)",
     "output_type": "error",
     "traceback": [
      "\u001b[0;36m  Cell \u001b[0;32mIn[8], line 1\u001b[0;36m\u001b[0m\n\u001b[0;31m    def test():\u001b[0m\n\u001b[0m               ^\u001b[0m\n\u001b[0;31mSyntaxError\u001b[0m\u001b[0;31m:\u001b[0m incomplete input\n"
     ]
    }
   ],
   "source": [
    "def test():"
   ]
  },
  {
   "cell_type": "code",
   "execution_count": 11,
   "id": "4377787b-898d-4b7e-8c95-6ec6a872962d",
   "metadata": {},
   "outputs": [],
   "source": [
    "def test(): #would give no error\n",
    "    pass"
   ]
  },
  {
   "cell_type": "code",
   "execution_count": 16,
   "id": "8015aac4-45b3-431f-b3d3-4df510967bb3",
   "metadata": {},
   "outputs": [],
   "source": [
    "def test1():\n",
    "    print(\"this is my first func\")"
   ]
  },
  {
   "cell_type": "code",
   "execution_count": 17,
   "id": "95124e23-9fc9-46d7-8dce-59d848070692",
   "metadata": {},
   "outputs": [
    {
     "name": "stdout",
     "output_type": "stream",
     "text": [
      "this is my first func\n"
     ]
    }
   ],
   "source": [
    "test1()"
   ]
  },
  {
   "cell_type": "code",
   "execution_count": 21,
   "id": "a68be7c5-5001-4e3b-9688-c302a585540e",
   "metadata": {},
   "outputs": [
    {
     "name": "stdout",
     "output_type": "stream",
     "text": [
      "this is my first func\n"
     ]
    },
    {
     "ename": "TypeError",
     "evalue": "unsupported operand type(s) for +: 'NoneType' and 'str'",
     "output_type": "error",
     "traceback": [
      "\u001b[0;31m---------------------------------------------------------------------------\u001b[0m",
      "\u001b[0;31mTypeError\u001b[0m                                 Traceback (most recent call last)",
      "Cell \u001b[0;32mIn[21], line 1\u001b[0m\n\u001b[0;32m----> 1\u001b[0m \u001b[43mtest1\u001b[49m\u001b[43m(\u001b[49m\u001b[43m)\u001b[49m\u001b[43m \u001b[49m\u001b[38;5;241;43m+\u001b[39;49m\u001b[43m \u001b[49m\u001b[38;5;124;43m\"\u001b[39;49m\u001b[38;5;124;43msudh\u001b[39;49m\u001b[38;5;124;43m\"\u001b[39;49m  \u001b[38;5;66;03m#print always return non-type by default\u001b[39;00m\n",
      "\u001b[0;31mTypeError\u001b[0m: unsupported operand type(s) for +: 'NoneType' and 'str'"
     ]
    }
   ],
   "source": [
    "test1() + \"sudh\"  #print always return non-type by default"
   ]
  },
  {
   "cell_type": "code",
   "execution_count": 23,
   "id": "60f533e1-3923-40c3-a636-aa5fd40306cc",
   "metadata": {},
   "outputs": [],
   "source": [
    "def test2():\n",
    "    return \"this is my fun with return\""
   ]
  },
  {
   "cell_type": "code",
   "execution_count": 25,
   "id": "32ab488d-bec2-4113-84cd-8a1d031d3953",
   "metadata": {},
   "outputs": [
    {
     "data": {
      "text/plain": [
       "'this is my fun with return'"
      ]
     },
     "execution_count": 25,
     "metadata": {},
     "output_type": "execute_result"
    }
   ],
   "source": [
    "test2() #return always give whatever the input data typpe is"
   ]
  },
  {
   "cell_type": "code",
   "execution_count": 30,
   "id": "feb7095c-155a-4a50-9399-adac379a7b56",
   "metadata": {},
   "outputs": [
    {
     "data": {
      "text/plain": [
       "'this is my fun with return sudh'"
      ]
     },
     "execution_count": 30,
     "metadata": {},
     "output_type": "execute_result"
    }
   ],
   "source": [
    "test2() + \" sudh\""
   ]
  },
  {
   "cell_type": "code",
   "execution_count": 31,
   "id": "82c4442e-88a4-457d-b903-ca88ecd83145",
   "metadata": {},
   "outputs": [],
   "source": [
    "def test3():\n",
    "    return 1, 4, \"Pwskills\", 34.55"
   ]
  },
  {
   "cell_type": "code",
   "execution_count": 33,
   "id": "bcee2d7b-9a65-4843-bd2c-d4d898701967",
   "metadata": {},
   "outputs": [
    {
     "data": {
      "text/plain": [
       "(1, 4, 'Pwskills', 34.55)"
      ]
     },
     "execution_count": 33,
     "metadata": {},
     "output_type": "execute_result"
    }
   ],
   "source": [
    "test3() #multiple return is possible"
   ]
  },
  {
   "cell_type": "code",
   "execution_count": 34,
   "id": "17f5d01f-5f57-4da0-8b55-cf7e9b70fea6",
   "metadata": {},
   "outputs": [],
   "source": [
    "a = 1,2,3,4,5"
   ]
  },
  {
   "cell_type": "code",
   "execution_count": 35,
   "id": "71526bfe-680f-4e7f-b08c-3e8225ff4681",
   "metadata": {},
   "outputs": [
    {
     "data": {
      "text/plain": [
       "(1, 2, 3, 4, 5)"
      ]
     },
     "execution_count": 35,
     "metadata": {},
     "output_type": "execute_result"
    }
   ],
   "source": [
    "a"
   ]
  },
  {
   "cell_type": "code",
   "execution_count": 36,
   "id": "9ebb9c6c-9d52-4693-ae97-c12094a0f4f2",
   "metadata": {},
   "outputs": [],
   "source": [
    "a,b,c,d = 1,2,34.56, True"
   ]
  },
  {
   "cell_type": "code",
   "execution_count": 37,
   "id": "9ca3b83f-f4f1-4a30-bce3-947bdbbce38c",
   "metadata": {},
   "outputs": [
    {
     "data": {
      "text/plain": [
       "1"
      ]
     },
     "execution_count": 37,
     "metadata": {},
     "output_type": "execute_result"
    }
   ],
   "source": [
    "a"
   ]
  },
  {
   "cell_type": "code",
   "execution_count": 38,
   "id": "d313e0b4-9c9b-4be0-83e0-b898cdc649f7",
   "metadata": {},
   "outputs": [
    {
     "data": {
      "text/plain": [
       "2"
      ]
     },
     "execution_count": 38,
     "metadata": {},
     "output_type": "execute_result"
    }
   ],
   "source": [
    "b"
   ]
  },
  {
   "cell_type": "code",
   "execution_count": 39,
   "id": "2188897b-5514-47a5-9a5f-7c6a1df5c1b2",
   "metadata": {},
   "outputs": [
    {
     "data": {
      "text/plain": [
       "34.56"
      ]
     },
     "execution_count": 39,
     "metadata": {},
     "output_type": "execute_result"
    }
   ],
   "source": [
    "c"
   ]
  },
  {
   "cell_type": "code",
   "execution_count": 40,
   "id": "19974c24-e39a-4b9b-9a54-5db81452c550",
   "metadata": {},
   "outputs": [
    {
     "data": {
      "text/plain": [
       "True"
      ]
     },
     "execution_count": 40,
     "metadata": {},
     "output_type": "execute_result"
    }
   ],
   "source": [
    "d\n"
   ]
  },
  {
   "cell_type": "code",
   "execution_count": 46,
   "id": "3dbfc6ae-f2ff-4150-9b02-c9d6ad0662e3",
   "metadata": {},
   "outputs": [
    {
     "data": {
      "text/plain": [
       "(1, 4, 'Pwskills', 34.55)"
      ]
     },
     "execution_count": 46,
     "metadata": {},
     "output_type": "execute_result"
    }
   ],
   "source": [
    "test3()  #return as a tuple if multiple "
   ]
  },
  {
   "cell_type": "code",
   "execution_count": 47,
   "id": "37b1bc51-4202-4c82-8959-4105da9b242a",
   "metadata": {},
   "outputs": [
    {
     "data": {
      "text/plain": [
       "1"
      ]
     },
     "execution_count": 47,
     "metadata": {},
     "output_type": "execute_result"
    }
   ],
   "source": [
    "test3()[0]"
   ]
  },
  {
   "cell_type": "code",
   "execution_count": 48,
   "id": "b26fe0b5-90a9-46c3-91b5-5bbdc7cebf36",
   "metadata": {},
   "outputs": [
    {
     "data": {
      "text/plain": [
       "4"
      ]
     },
     "execution_count": 48,
     "metadata": {},
     "output_type": "execute_result"
    }
   ],
   "source": [
    "test3()[1]"
   ]
  },
  {
   "cell_type": "code",
   "execution_count": 49,
   "id": "3d535a48-24c7-4dcd-b710-4289e34f1ec4",
   "metadata": {},
   "outputs": [
    {
     "data": {
      "text/plain": [
       "'Pwskills'"
      ]
     },
     "execution_count": 49,
     "metadata": {},
     "output_type": "execute_result"
    }
   ],
   "source": [
    "test3()[2]"
   ]
  },
  {
   "cell_type": "code",
   "execution_count": 50,
   "id": "deba28c6-8f34-480e-aa5c-f4adddb3a282",
   "metadata": {},
   "outputs": [],
   "source": [
    "a,b,c,d = test3()"
   ]
  },
  {
   "cell_type": "code",
   "execution_count": 52,
   "id": "9214d564-c8aa-4123-bce9-caafee4bae88",
   "metadata": {},
   "outputs": [
    {
     "data": {
      "text/plain": [
       "1"
      ]
     },
     "execution_count": 52,
     "metadata": {},
     "output_type": "execute_result"
    }
   ],
   "source": [
    "a"
   ]
  },
  {
   "cell_type": "code",
   "execution_count": 53,
   "id": "2d87920c-ceb6-40b2-95fa-d4343aa80621",
   "metadata": {},
   "outputs": [
    {
     "data": {
      "text/plain": [
       "4"
      ]
     },
     "execution_count": 53,
     "metadata": {},
     "output_type": "execute_result"
    }
   ],
   "source": [
    "b"
   ]
  },
  {
   "cell_type": "code",
   "execution_count": 54,
   "id": "2fee4df0-f463-4dfa-a56f-e9965177cb91",
   "metadata": {},
   "outputs": [
    {
     "data": {
      "text/plain": [
       "34.55"
      ]
     },
     "execution_count": 54,
     "metadata": {},
     "output_type": "execute_result"
    }
   ],
   "source": [
    "d"
   ]
  },
  {
   "cell_type": "code",
   "execution_count": 62,
   "id": "7c701385-133e-472b-a709-ebcce545ac61",
   "metadata": {},
   "outputs": [],
   "source": [
    "def test4():\n",
    "    a = 3*4+4\n",
    "    return a"
   ]
  },
  {
   "cell_type": "code",
   "execution_count": 63,
   "id": "66333272-f2bf-4563-a361-a4d423507e7b",
   "metadata": {},
   "outputs": [
    {
     "data": {
      "text/plain": [
       "16"
      ]
     },
     "execution_count": 63,
     "metadata": {},
     "output_type": "execute_result"
    }
   ],
   "source": [
    "test4()"
   ]
  },
  {
   "cell_type": "code",
   "execution_count": 64,
   "id": "fab4538e-2eec-4e88-9a34-ef3c7cfb3f8e",
   "metadata": {},
   "outputs": [
    {
     "data": {
      "text/plain": [
       "int"
      ]
     },
     "execution_count": 64,
     "metadata": {},
     "output_type": "execute_result"
    }
   ],
   "source": [
    "type(test4())"
   ]
  },
  {
   "cell_type": "code",
   "execution_count": 65,
   "id": "7dc34134-9c62-4c79-a19c-68cac0ab7810",
   "metadata": {},
   "outputs": [],
   "source": [
    "#pass some data at the time of creation\n",
    "def test5(a,b):\n",
    "    c = a+b\n",
    "    return c"
   ]
  },
  {
   "cell_type": "code",
   "execution_count": 68,
   "id": "fc480ab7-4dc8-46a3-b787-22f302829dab",
   "metadata": {},
   "outputs": [
    {
     "ename": "TypeError",
     "evalue": "test5() missing 2 required positional arguments: 'a' and 'b'",
     "output_type": "error",
     "traceback": [
      "\u001b[0;31m---------------------------------------------------------------------------\u001b[0m",
      "\u001b[0;31mTypeError\u001b[0m                                 Traceback (most recent call last)",
      "Cell \u001b[0;32mIn[68], line 1\u001b[0m\n\u001b[0;32m----> 1\u001b[0m \u001b[43mtest5\u001b[49m\u001b[43m(\u001b[49m\u001b[43m)\u001b[49m  \u001b[38;5;66;03m#it requires two valuei.e. argument\u001b[39;00m\n",
      "\u001b[0;31mTypeError\u001b[0m: test5() missing 2 required positional arguments: 'a' and 'b'"
     ]
    }
   ],
   "source": [
    "test5()  #it requires two valuei.e. argument"
   ]
  },
  {
   "cell_type": "code",
   "execution_count": 69,
   "id": "f7961940-1af0-4832-b931-a44869ca0e7b",
   "metadata": {},
   "outputs": [
    {
     "data": {
      "text/plain": [
       "4"
      ]
     },
     "execution_count": 69,
     "metadata": {},
     "output_type": "execute_result"
    }
   ],
   "source": [
    "test5(1,3)"
   ]
  },
  {
   "cell_type": "code",
   "execution_count": 72,
   "id": "b5b93fbb-866a-475d-ad80-9f280d3d0cff",
   "metadata": {},
   "outputs": [
    {
     "data": {
      "text/plain": [
       "'abhishek kumar'"
      ]
     },
     "execution_count": 72,
     "metadata": {},
     "output_type": "execute_result"
    }
   ],
   "source": [
    "test5(\"abhishek\", \" kumar\") #performs concatenation"
   ]
  },
  {
   "cell_type": "code",
   "execution_count": 73,
   "id": "5e13c5c3-edb9-4fa2-8f7f-b7d74867b8da",
   "metadata": {},
   "outputs": [
    {
     "data": {
      "text/plain": [
       "[1, 2, 3, 4, 4, 5, 6, 7, 8, 9]"
      ]
     },
     "execution_count": 73,
     "metadata": {},
     "output_type": "execute_result"
    }
   ],
   "source": [
    "test5([1,2,3,4], [4,5,6,7,8,9])"
   ]
  },
  {
   "cell_type": "code",
   "execution_count": 75,
   "id": "07fa38cd-e396-4bba-9140-8c31a287bc35",
   "metadata": {},
   "outputs": [
    {
     "data": {
      "text/plain": [
       "'Kumar abhi'"
      ]
     },
     "execution_count": 75,
     "metadata": {},
     "output_type": "execute_result"
    }
   ],
   "source": [
    "test5(b = \" abhi\", a= \"Kumar\")"
   ]
  },
  {
   "cell_type": "code",
   "execution_count": 16,
   "id": "8e1cdea9-68f8-4cc1-aa0a-f4a316efddc2",
   "metadata": {},
   "outputs": [],
   "source": [
    "l =[1,2,3,4,5,\"sudh\", \"pwskills\", [1,3,4,6,9]]"
   ]
  },
  {
   "cell_type": "markdown",
   "id": "785c956d-cd96-4548-af16-88574e511a29",
   "metadata": {},
   "source": [
    "#create a function which it will take list as a input and gives me a final list with only numeric value"
   ]
  },
  {
   "cell_type": "code",
   "execution_count": 17,
   "id": "72810a28-82a8-4595-bf52-7ecfc8a78e75",
   "metadata": {},
   "outputs": [],
   "source": [
    "def test6(a):\n",
    "    n = []\n",
    "    for i in a:\n",
    "        if type(i) == int or type (i) == float:\n",
    "            n.append(i)\n",
    "    return n"
   ]
  },
  {
   "cell_type": "code",
   "execution_count": 18,
   "id": "f5afc7e2-6bd6-4293-be81-b1886ef9035b",
   "metadata": {},
   "outputs": [
    {
     "data": {
      "text/plain": [
       "[1, 2, 3, 4, 5]"
      ]
     },
     "execution_count": 18,
     "metadata": {},
     "output_type": "execute_result"
    }
   ],
   "source": [
    "test6(l)"
   ]
  },
  {
   "cell_type": "code",
   "execution_count": 19,
   "id": "2d857b96-28a6-4bc0-99ca-d0060767a5b2",
   "metadata": {},
   "outputs": [
    {
     "data": {
      "text/plain": [
       "[1, 2, 3, 4, 5, 'sudh', 'pwskills', [1, 3, 4, 6, 9]]"
      ]
     },
     "execution_count": 19,
     "metadata": {},
     "output_type": "execute_result"
    }
   ],
   "source": [
    "l"
   ]
  },
  {
   "cell_type": "code",
   "execution_count": 24,
   "id": "f43e109d-ea9e-4c9a-bf8c-a7758bcaed10",
   "metadata": {},
   "outputs": [],
   "source": [
    "def test7(a):\n",
    "    n =[]\n",
    "    for i in a:\n",
    "        if type(i) == list:\n",
    "            for j in i:\n",
    "                if type(j) == int or type(j)== float:\n",
    "                    n.append(j)\n",
    "        else :\n",
    "            if type(i) == int or type(i) == float:\n",
    "                n.append(i)\n",
    "    return n"
   ]
  },
  {
   "cell_type": "code",
   "execution_count": 25,
   "id": "43e681c2-0af3-41f0-89d3-a47abb8bb4d0",
   "metadata": {},
   "outputs": [
    {
     "data": {
      "text/plain": [
       "[1, 2, 3, 4, 5, 1, 3, 4, 6, 9]"
      ]
     },
     "execution_count": 25,
     "metadata": {},
     "output_type": "execute_result"
    }
   ],
   "source": [
    "test7(l)"
   ]
  },
  {
   "cell_type": "code",
   "execution_count": null,
   "id": "b5736c95-1ede-4609-9ecf-78f2f9cc4a91",
   "metadata": {},
   "outputs": [],
   "source": []
  }
 ],
 "metadata": {
  "kernelspec": {
   "display_name": "Python 3 (ipykernel)",
   "language": "python",
   "name": "python3"
  },
  "language_info": {
   "codemirror_mode": {
    "name": "ipython",
    "version": 3
   },
   "file_extension": ".py",
   "mimetype": "text/x-python",
   "name": "python",
   "nbconvert_exporter": "python",
   "pygments_lexer": "ipython3",
   "version": "3.10.8"
  }
 },
 "nbformat": 4,
 "nbformat_minor": 5
}
