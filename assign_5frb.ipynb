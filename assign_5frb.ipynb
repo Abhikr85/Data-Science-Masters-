{
 "cells": [
  {
   "cell_type": "markdown",
   "id": "8fde53bb-0695-4a5e-81c6-ae6a72d45690",
   "metadata": {},
   "source": [
    "Q1. Explain Class and Object with respect to Object-Oriented Programming. Give a suitable example."
   ]
  },
  {
   "cell_type": "markdown",
   "id": "7a6b3aac-99f5-4dbd-90dc-e699f0ce5377",
   "metadata": {},
   "source": [
    "A class is a user-defined blueprint or prototype from which objects are created. Class is a blueprint which defines some properties and behaviors. An object is an instance of a class which has those properties and behaviours attached. A class is not allocated memory when it is defined. An object is allocated memory when it is created. Class is a logical entity whereas objects are physical entities.\n"
   ]
  },
  {
   "cell_type": "code",
   "execution_count": 1,
   "id": "2b972375-8979-4958-9bf0-c736ff874e51",
   "metadata": {},
   "outputs": [],
   "source": [
    "#example of class\n",
    "class cat:\n",
    "    attr1 = \"white\"\n",
    "    attr2 = \"black\"\n",
    "    def fun(self):\n",
    "        print(\"It is a\" ,self.attr1,\"cat\")\n",
    "        print(\"it is a \" , self.attr2,\"cat\")\n",
    "#we want to instantiate obj\n",
    "lucy = cat()"
   ]
  },
  {
   "cell_type": "code",
   "execution_count": 5,
   "id": "2d3a98bd-8569-486f-b155-69088a5e306a",
   "metadata": {},
   "outputs": [
    {
     "name": "stdout",
     "output_type": "stream",
     "text": [
      "white\n"
     ]
    }
   ],
   "source": [
    "print(lucy.attr1)"
   ]
  },
  {
   "cell_type": "code",
   "execution_count": 6,
   "id": "613e4545-ccb5-427d-a03b-335dfb210d4f",
   "metadata": {},
   "outputs": [
    {
     "name": "stdout",
     "output_type": "stream",
     "text": [
      "It is a white cat\n",
      "it is a  black cat\n"
     ]
    }
   ],
   "source": [
    "lucy.fun()"
   ]
  },
  {
   "cell_type": "markdown",
   "id": "36c3e786-c64f-4806-b682-b7fd5e9ad9ce",
   "metadata": {},
   "source": [
    "[Q2.] Name the four pillars of OOPs."
   ]
  },
  {
   "cell_type": "markdown",
   "id": "0ac523f7-9e61-46a6-8f6f-11a3fa6d2716",
   "metadata": {},
   "source": [
    "when creating objects using classes, there are four(4) basic principles for writing clean and concise code. These principles are called the four pillars of object-oriented programming (OOP). These four pillars are : Inheritance, Polymorphism, Encapsulation and Abstraction."
   ]
  },
  {
   "cell_type": "markdown",
   "id": "86daaa80-e971-42b3-b6ac-0de0668a114b",
   "metadata": {},
   "source": [
    "[Q3.] Explain why the __init__() function is used. Give a suitable example."
   ]
  },
  {
   "cell_type": "markdown",
   "id": "822aae5d-6665-4d5d-b37b-a0e198063479",
   "metadata": {},
   "source": [
    "__init__ is a constructor which is used to initializing the object’s state.We use the __init__() function to assign values to object properties, or other operations that are necessary to do when the object is being created."
   ]
  },
  {
   "cell_type": "code",
   "execution_count": 7,
   "id": "2ed39721-b183-48c1-b6b7-481d8e1a651e",
   "metadata": {},
   "outputs": [
    {
     "name": "stdout",
     "output_type": "stream",
     "text": [
      "John\n",
      "36\n"
     ]
    }
   ],
   "source": [
    "#ex\n",
    "class Person:\n",
    "  def __init__(self, name, age):\n",
    "    self.name = name\n",
    "    self.age = age\n",
    "\n",
    "p1 = Person(\"John\", 36)\n",
    "\n",
    "print(p1.name)\n",
    "print(p1.age)"
   ]
  },
  {
   "cell_type": "markdown",
   "id": "ad4b52a3-7b12-4d39-98b0-5faae0b34004",
   "metadata": {},
   "source": [
    "Q4. Why self is used in OOPs?"
   ]
  },
  {
   "cell_type": "markdown",
   "id": "532df77a-b337-43d4-8487-f2a1ab8cd673",
   "metadata": {},
   "source": [
    "self represents the instance of the class. By using the “self”  we can access the attributes and methods of the class in python. It binds the attributes with the given arguments.It works as a reference to the object."
   ]
  },
  {
   "cell_type": "markdown",
   "id": "dc6bca6c-d38d-4426-a726-d9e1eaadb810",
   "metadata": {},
   "source": [
    "\n",
    "Q5. What is inheritance? Give an example for each type of inheritance."
   ]
  },
  {
   "cell_type": "markdown",
   "id": "e2fe52cc-8cda-4c34-a511-f483af14c263",
   "metadata": {},
   "source": [
    "Inheritance is a process of obtaining properties and characteristics(variables and methods) of another class. In this hierarchical order, the class which inherits another class is called subclass or child class, and the other class is the parent class."
   ]
  },
  {
   "cell_type": "markdown",
   "id": "97d4051d-74e4-40a5-9afc-6f016c427f29",
   "metadata": {},
   "source": [
    "Types of Inheritance in Python\n",
    "\n"
   ]
  },
  {
   "cell_type": "markdown",
   "id": "038e3383-39fb-4424-8927-04b90c4caa27",
   "metadata": {},
   "source": [
    "[1] Single Inheritance:  Single inheritance enables a derived class to inherit properties from a single parent class, thus enabling code reusability and the addition of new features to existing code."
   ]
  },
  {
   "cell_type": "code",
   "execution_count": 5,
   "id": "999616b0-a239-48c7-9551-ed3c3d8e8ac3",
   "metadata": {},
   "outputs": [
    {
     "name": "stdout",
     "output_type": "stream",
     "text": [
      "This function is in parent class.\n",
      "This function is in child class.\n"
     ]
    }
   ],
   "source": [
    "# Base class\n",
    "class Parent:\n",
    "\tdef func1(self):\n",
    "\t\tprint(\"This function is in parent class.\")\n",
    "\n",
    "# Derived class\n",
    "\n",
    "\n",
    "class Child(Parent):\n",
    "\tdef func2(self):\n",
    "\t\tprint(\"This function is in child class.\")\n",
    "\n",
    "\n",
    "# Driver's code\n",
    "object = Child()\n",
    "object.func1()\n",
    "object.func2()\n"
   ]
  },
  {
   "cell_type": "markdown",
   "id": "0c0f222a-511c-43e6-9ce7-026aa25bc1f7",
   "metadata": {},
   "source": [
    "[2] Multiple Inheritance: \n",
    "When a class can be derived from more than one base class this type of inheritance is called multiple inheritances. "
   ]
  },
  {
   "cell_type": "code",
   "execution_count": 6,
   "id": "72028822-9d1f-4158-a8df-9183240be461",
   "metadata": {},
   "outputs": [
    {
     "name": "stdout",
     "output_type": "stream",
     "text": [
      "Father : RAM\n",
      "Mother : SITA\n"
     ]
    }
   ],
   "source": [
    "\n",
    "# Base class1\n",
    "class Mother:\n",
    "\tmothername = \"\"\n",
    "\n",
    "\tdef mother(self):\n",
    "\t\tprint(self.mothername)\n",
    "\n",
    "# Base class2\n",
    "\n",
    "\n",
    "class Father:\n",
    "\tfathername = \"\"\n",
    "\n",
    "\tdef father(self):\n",
    "\t\tprint(self.fathername)\n",
    "\n",
    "# Derived class\n",
    "\n",
    "\n",
    "class Son(Mother, Father):\n",
    "\tdef parents(self):\n",
    "\t\tprint(\"Father :\", self.fathername)\n",
    "\t\tprint(\"Mother :\", self.mothername)\n",
    "\n",
    "\n",
    "# Driver's code\n",
    "s1 = Son()\n",
    "s1.fathername = \"RAM\"\n",
    "s1.mothername = \"SITA\"\n",
    "s1.parents()\n"
   ]
  },
  {
   "cell_type": "markdown",
   "id": "440cc938-477c-4152-ab49-f8861a3e5218",
   "metadata": {},
   "source": [
    "[3] Multilevel Inheritance :\n",
    "In multilevel inheritance, features of the base class and the derived class are further inherited into the new derived class. This is similar to a relationship representing a child and a grandfather. \n",
    "\n"
   ]
  },
  {
   "cell_type": "code",
   "execution_count": 7,
   "id": "dada3175-a7ef-4c2a-9c92-48e7272aea28",
   "metadata": {},
   "outputs": [
    {
     "name": "stdout",
     "output_type": "stream",
     "text": [
      "Lal mani\n",
      "Grandfather name : Lal mani\n",
      "Father name : Rampal\n",
      "Son name : Prince\n"
     ]
    }
   ],
   "source": [
    "class Grandfather:\n",
    "\n",
    "\tdef __init__(self, grandfathername):\n",
    "\t\tself.grandfathername = grandfathername\n",
    "\n",
    "# Intermediate class\n",
    "\n",
    "\n",
    "class Father(Grandfather):\n",
    "\tdef __init__(self, fathername, grandfathername):\n",
    "\t\tself.fathername = fathername\n",
    "\n",
    "\t\t# invoking constructor of Grandfather class\n",
    "\t\tGrandfather.__init__(self, grandfathername)\n",
    "\n",
    "# Derived class\n",
    "\n",
    "\n",
    "class Son(Father):\n",
    "\tdef __init__(self, sonname, fathername, grandfathername):\n",
    "\t\tself.sonname = sonname\n",
    "\n",
    "\t\t# invoking constructor of Father class\n",
    "\t\tFather.__init__(self, fathername, grandfathername)\n",
    "\n",
    "\tdef print_name(self):\n",
    "\t\tprint('Grandfather name :', self.grandfathername)\n",
    "\t\tprint(\"Father name :\", self.fathername)\n",
    "\t\tprint(\"Son name :\", self.sonname)\n",
    "\n",
    "\n",
    "# Driver code\n",
    "s1 = Son('Prince', 'Rampal', 'Lal mani')\n",
    "print(s1.grandfathername)\n",
    "s1.print_name()\n"
   ]
  },
  {
   "cell_type": "markdown",
   "id": "c5ab6bce-c8f3-4dc3-a08a-51d574fe8f09",
   "metadata": {},
   "source": [
    "[4] Hierarchical Inheritance: \n",
    "When more than one derived class are created from a single base this type of inheritance is called hierarchical inheritance. In this program, we have a parent (base) class and two child (derived) classes."
   ]
  },
  {
   "cell_type": "code",
   "execution_count": null,
   "id": "0a313e12-636b-4d6b-8244-101066e0c0e7",
   "metadata": {},
   "outputs": [],
   "source": [
    "# Python program to demonstrate\n",
    "# Hierarchical inheritance\n",
    "\n",
    "\n",
    "# Base class\n",
    "class Parent:\n",
    "\tdef func1(self):\n",
    "\t\tprint(\"This function is in parent class.\")\n",
    "\n",
    "# Derived class1\n",
    "\n",
    "\n",
    "class Child1(Parent):\n",
    "\tdef func2(self):\n",
    "\t\tprint(\"This function is in child 1.\")\n",
    "\n",
    "# Derivied class2\n",
    "\n",
    "\n",
    "class Child2(Parent):\n",
    "\tdef func3(self):\n",
    "\t\tprint(\"This function is in child 2.\")\n",
    "\n",
    "\n",
    "# Driver's code\n",
    "object1 = Child1()\n",
    "object2 = Child2()\n",
    "object1.func1()\n",
    "object1.func2()\n",
    "object2.func1()\n",
    "object2.func3()\n"
   ]
  }
 ],
 "metadata": {
  "kernelspec": {
   "display_name": "Python 3 (ipykernel)",
   "language": "python",
   "name": "python3"
  },
  "language_info": {
   "codemirror_mode": {
    "name": "ipython",
    "version": 3
   },
   "file_extension": ".py",
   "mimetype": "text/x-python",
   "name": "python",
   "nbconvert_exporter": "python",
   "pygments_lexer": "ipython3",
   "version": "3.10.8"
  }
 },
 "nbformat": 4,
 "nbformat_minor": 5
}
