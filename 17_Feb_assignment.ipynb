{
 "cells": [
  {
   "cell_type": "markdown",
   "id": "61ede405-ddef-41db-b468-e6637ff9c8d0",
   "metadata": {},
   "source": [
    "Q1. What is a database? Differentiate between SQL and NoSQL databases."
   ]
  },
  {
   "cell_type": "markdown",
   "id": "0f4141d6-9d3d-4776-849b-a00e771d0707",
   "metadata": {},
   "source": [
    "\n",
    "A database is an organized collection of structured information, or data, typically stored electronically in a computer system. A database is usually controlled by a database management system (DBMS)."
   ]
  },
  {
   "cell_type": "markdown",
   "id": "d65b2a5b-ed69-4bb5-9595-6119f91811c8",
   "metadata": {},
   "source": [
    "Difference between Sql and NoSql database:\n",
    "\n",
    "1.SQL databases are primarily called as Relational Databases (RDBMS); whereas NoSQL database are primarily called as non-relational or distributed database.\n",
    "2.SQL databases defines and manipulates data based structured query language (SQL) and have fixed schemas while Nosql database have dynamic schema for unstructured data and data is stored in many ways which means it can be document-oriented, column-oriented, graph-based or organized as a KeyValue store.\n",
    "3.Sql databases are vertically scalable, while NoSQL databases are horizontally scalable."
   ]
  },
  {
   "cell_type": "markdown",
   "id": "e87d6af8-e3fe-4f57-8431-4dd8a19704a3",
   "metadata": {},
   "source": [
    "[Q2.] What is DDL? Explain why CREATE, DROP, ALTER, and TRUNCATE are used with an example.\n",
    "\n",
    "        "
   ]
  },
  {
   "cell_type": "markdown",
   "id": "868d4c88-6310-4e73-ad9b-9f902be68c4f",
   "metadata": {},
   "source": [
    "DDL stands for data definition language, which is a subset of SQL. It is a language for describing data and its relationships in a database. We can generate DDL in a script for database objects to: Keep a snapshot of the database structure.\n"
   ]
  },
  {
   "cell_type": "markdown",
   "id": "947562e0-d6af-47cf-98f2-b8f4dbd6792a",
   "metadata": {},
   "source": [
    "Following commands are used for DDL:\n",
    "    "
   ]
  },
  {
   "cell_type": "markdown",
   "id": "64feb0b7-4e1a-498b-a380-60169498360c",
   "metadata": {},
   "source": [
    "CREATE to create a new table or database.\n",
    "        ex: CREATE DATABASE test;\n"
   ]
  },
  {
   "cell_type": "markdown",
   "id": "cb5d4b23-a7b6-4bcb-b245-6b76a3790d17",
   "metadata": {},
   "source": [
    "ALTER for alteration.\n",
    "ex: ALTER TABLE test ADD new_data;\n",
    "        it will add a column \n"
   ]
  },
  {
   "cell_type": "markdown",
   "id": "1096d14a-609c-4b48-bb06-ea337fe69957",
   "metadata": {},
   "source": [
    "Truncate to delete data from the table.\n",
    "ex : TRUNCATE TABLE test;\n",
    "        will delete all data from the table(not the tabkle itself)\n"
   ]
  },
  {
   "cell_type": "markdown",
   "id": "1d1f8c84-4f50-44fc-8892-99f4747caa62",
   "metadata": {},
   "source": [
    "DROP to drop a table.\n",
    "ex: DROP TABLE test;\n",
    "        will delete the table \n"
   ]
  },
  {
   "cell_type": "markdown",
   "id": "bce33543-4a54-41f7-a417-c7896a53bc1e",
   "metadata": {},
   "source": [
    "RENAME to rename a table.\n",
    "ALTER TABLE test\n",
    "        RENAME TO test_001;"
   ]
  },
  {
   "cell_type": "markdown",
   "id": "5f8cfd9e-8202-477e-8da8-5dfac8906399",
   "metadata": {},
   "source": [
    "[Q3.] What is DML? Explain INSERT, UPDATE, and DELETE with an example."
   ]
  },
  {
   "cell_type": "markdown",
   "id": "616b82eb-9aff-4db6-ab78-e259e4947261",
   "metadata": {},
   "source": [
    "The SQL commands that deals with the manipulation of data present in the database belong to DML or Data Manipulation Language and this includes most of the SQL statements.\n"
   ]
  },
  {
   "cell_type": "markdown",
   "id": "8be25dc6-1ca5-4012-aa74-78afe08ae03d",
   "metadata": {},
   "source": [
    "List of DML commands: \n",
    "\n"
   ]
  },
  {
   "cell_type": "markdown",
   "id": "a3dc2fc9-ede6-4784-a156-2dfeadf5230a",
   "metadata": {},
   "source": [
    "INSERT : It is used to insert data into a table.\n",
    "ex: INSERT INTO test_001 VALUES (\"sudh\", 123, \"kumar\",\"sudh@gmail.com\");\n"
   ]
  },
  {
   "cell_type": "markdown",
   "id": "8ecaa170-0f32-4a7f-adf9-94b0978150cb",
   "metadata": {},
   "source": [
    "UPDATE: It is used to update existing data within a table.\n",
    "ex: UPDATE Student SET NAME = 'PRATIK' WHERE Age = 20;\n"
   ]
  },
  {
   "cell_type": "markdown",
   "id": "5406675f-a391-448a-98c3-b23baece3890",
   "metadata": {},
   "source": [
    "DELETE : It is used to delete records from a database table.\n",
    "ex: DELETE FROM Student WHERE NAME = 'Ram';\n",
    "will delete the row where student name is Ram"
   ]
  },
  {
   "cell_type": "markdown",
   "id": "30197e0f-57bb-4e79-a9f7-2cad748939e7",
   "metadata": {},
   "source": [
    "[Q4.] What is DQL? Explain SELECT with an example."
   ]
  },
  {
   "cell_type": "raw",
   "id": "09d5080a-9df3-4bdc-8f53-163e078fc19e",
   "metadata": {},
   "source": [
    "It is a component of SQL statement that allows getting data from the database and imposing order upon it. It includes the SELECT statement. This command allows getting the data out of the database to perform operations with it. "
   ]
  },
  {
   "cell_type": "raw",
   "id": "8ccada32-c061-4b89-9378-1347fc681470",
   "metadata": {},
   "source": [
    "SELECT:  used to retrieve or fetch data from a database.\n",
    "ex: SELECT * FROM test_001;\n",
    "will show all the column and rows with the data "
   ]
  },
  {
   "cell_type": "markdown",
   "id": "1ff69cfa-2206-4ba3-bc03-d069d4db0302",
   "metadata": {},
   "source": [
    "[Q5.] Explain Primary Key and Foreign Key."
   ]
  },
  {
   "cell_type": "raw",
   "id": "6bb65d40-623e-4d1a-afb0-426502ad21e9",
   "metadata": {},
   "source": [
    "Primary key: It is a unique or non-null key that uniquely identifies every record in a table or relation. Each database needs a unique identifier for every row of a table, and the primary key plays a vital role in identifying rows in the table uniquely. The primary key column can't store duplicate values. It is also called a minimal super key; therefore, we cannot specify more than one primary key in any relationship.\n",
    "FOREIGN key: The foreign key is a group of one or more columns in a database to uniquely identify another database record in some other table to maintain the referential integrity. It is also known as the referencing key that establishes a relationship between two different tables in a database. A foreign key always matches the primary key column in another table. It means a foreign key column in one table refers to the primary key column of another table."
   ]
  },
  {
   "cell_type": "markdown",
   "id": "9d493063-7952-436d-8870-e2d07e2e539c",
   "metadata": {},
   "source": [
    "[Q6.] Write a python code to connect MySQL to python. Explain the cursor() and execute() method."
   ]
  },
  {
   "cell_type": "raw",
   "id": "d5ec9275-901c-47f4-bc43-aeda8a240555",
   "metadata": {},
   "source": [
    "#for that we need to import mysql connector\n",
    "import mysql.connector\n",
    "mydb =mysql.connector.connect(\n",
    "    host= \"localhost\",\n",
    "    user= \"abc\",\n",
    "    password= \"password\"\n",
    ")\n",
    "mycursor= mydb.cursor()\n",
    "mycursor.execute(\"select * from test1.test_name\")\n",
    "for i in mycursor.fetchall():\n",
    "    print(i)"
   ]
  },
  {
   "cell_type": "raw",
   "id": "7b3f7ca6-fc3e-4c8e-82c4-1a8dfb304cd5",
   "metadata": {},
   "source": [
    "cursor():cursors are created by the connection.cursor() method: they are bound to the connection for the entire lifetime and all the commands are executed in the context of the database session wrapped by the connection.\n",
    "cursor.execute (): The execute () method helps us to execute the query and return records according to the query. "
   ]
  },
  {
   "cell_type": "markdown",
   "id": "326f0bf5-bf44-455d-a400-ce53f0d04411",
   "metadata": {},
   "source": [
    "[Q7.] Give the order of execution of SQL clauses in an SQL query."
   ]
  },
  {
   "cell_type": "raw",
   "id": "f71c4985-1427-43f9-a9ec-2f40d59ca36c",
   "metadata": {},
   "source": [
    "The SQL order of execution defines the order in which the clauses of a query are evaluated. Some of the most common query challenges people run into could be easily avoided with a clearer understanding of the SQL order of execution, sometimes called the SQL order of operations. Understanding SQL query order can help you diagnose why a query won’t run, and even more frequently will help you optimize your queries to run faster.\n",
    "The order are:\n",
    "1. FROM \n",
    "2. WHERE \n",
    "3. GROUP BY"
   ]
  }
 ],
 "metadata": {
  "kernelspec": {
   "display_name": "Python 3 (ipykernel)",
   "language": "python",
   "name": "python3"
  },
  "language_info": {
   "codemirror_mode": {
    "name": "ipython",
    "version": 3
   },
   "file_extension": ".py",
   "mimetype": "text/x-python",
   "name": "python",
   "nbconvert_exporter": "python",
   "pygments_lexer": "ipython3",
   "version": "3.10.8"
  }
 },
 "nbformat": 4,
 "nbformat_minor": 5
}
