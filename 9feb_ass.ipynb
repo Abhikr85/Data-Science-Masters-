{
 "cells": [
  {
   "cell_type": "markdown",
   "id": "7407ea42-e445-4c41-a608-12a6a46643d5",
   "metadata": {},
   "source": [
    "Q1, Create a vehicle class with an init method having instance variables as name_of_vehicle, max_speed\n",
    "and average_of_vehicle.\n"
   ]
  },
  {
   "cell_type": "code",
   "execution_count": 1,
   "id": "ecdf576f-d2cb-4c05-b6d2-08f5dba2bd9d",
   "metadata": {},
   "outputs": [],
   "source": [
    "class vehicle:\n",
    "    def prop_veh(self,name_of_vehicle, max_speed, average_of_vehicle):\n",
    "        self.name_of_vehicle = name_of_vehicle\n",
    "        self.max_speed = max_speed\n",
    "        self.average_of_vehicle = average_of_vehicle\n",
    "        "
   ]
  },
  {
   "cell_type": "markdown",
   "id": "a5559a49-2103-4eda-a0f4-f269a345e615",
   "metadata": {},
   "source": [
    "Q2. Create a child class car from the vehicle class created in Que 1, which will inherit the vehicle class.\n",
    "Create a method named seating_capacity which takes capacity as an argument and returns the name of\n",
    "the vehicle and its seating capacity."
   ]
  },
  {
   "cell_type": "code",
   "execution_count": 2,
   "id": "fa1139f2-ea6f-4bbd-aae6-b614f6a1888d",
   "metadata": {},
   "outputs": [],
   "source": [
    "class car(vehicle):\n",
    "    def seating_capacity(self, capacity):\n",
    "        self.capacity = capacity\n",
    "        return self.name_of_vehicle, self.capacity"
   ]
  },
  {
   "cell_type": "markdown",
   "id": "7d87793a-aa17-4e92-b9dc-9b34d34e62eb",
   "metadata": {},
   "source": [
    "Q3. What is multiple inheritance? Write a python code to demonstrate multiple inheritance."
   ]
  },
  {
   "cell_type": "markdown",
   "id": "ddbe4382-86f0-4f03-a201-6e7ca4735aee",
   "metadata": {},
   "source": [
    "When a class is derived from more than one base class it is called multiple Inheritance. The derived class inherits all the features of the base case."
   ]
  },
  {
   "cell_type": "code",
   "execution_count": 3,
   "id": "2c2df038-369d-4de2-a755-00edba839627",
   "metadata": {},
   "outputs": [
    {
     "name": "stdout",
     "output_type": "stream",
     "text": [
      "the name of school is Vidhyamandir classes\n",
      "there are total 10 sections in our school\n"
     ]
    }
   ],
   "source": [
    "#example:\n",
    "class school:\n",
    "    def school_info(self):\n",
    "        print(\"the name of school is Vidhyamandir classes\")\n",
    "class section:\n",
    "    def section_info(self):\n",
    "        print(\"there are total 10 sections in our school\")\n",
    "class info(school,section):\n",
    "    pass\n",
    "#creat object\n",
    "info_school = info()\n",
    "#we will be able to access method of class schooland section from class info\n",
    "info_school.school_info()\n",
    "info_school.section_info()"
   ]
  },
  {
   "cell_type": "markdown",
   "id": "0c5f1a9f-2a58-4066-b55e-4e84f3e78eae",
   "metadata": {},
   "source": [
    "[Q4.] What are getter and setter in python? Create a class and create a getter and a setter method in this\n",
    "class."
   ]
  },
  {
   "cell_type": "markdown",
   "id": "0b5944fe-1455-43cc-a021-bf5405f82b36",
   "metadata": {},
   "source": [
    "Getter: A method that allows you to access an attribute in a given class\n",
    "     "
   ]
  },
  {
   "cell_type": "markdown",
   "id": "504c6124-c952-4800-af5c-4d9dd8a3c8a6",
   "metadata": {},
   "source": [
    "Setter: A method that allows you to set or mutate the value of an attribute in a class"
   ]
  },
  {
   "cell_type": "code",
   "execution_count": 4,
   "id": "1215799b-015a-411f-9a16-b4551467b810",
   "metadata": {},
   "outputs": [
    {
     "name": "stdout",
     "output_type": "stream",
     "text": [
      "setter method called\n",
      "getter method called\n",
      "19\n"
     ]
    }
   ],
   "source": [
    "class Geeks:\n",
    "\tdef __init__(self):\n",
    "\t\tself._age = 0\n",
    "    # a getter function\n",
    "\t@property\n",
    "\tdef age(self):\n",
    "\t\tprint(\"getter method called\")\n",
    "\t\treturn self._age\n",
    "\t\n",
    "\t# a setter function\n",
    "\t@age.setter\n",
    "\tdef age(self, a):\n",
    "\t\tif(a < 18):\n",
    "\t\t\traise ValueError(\"Sorry you age is below eligibility criteria\")\n",
    "\t\tprint(\"setter method called\")\n",
    "\t\tself._age = a\n",
    "\n",
    "mark = Geeks()\n",
    "\n",
    "mark.age = 19\n",
    "\n",
    "print(mark.age)\n"
   ]
  },
  {
   "cell_type": "markdown",
   "id": "5edfb1d7-ca03-47b4-9964-f3922ed5a623",
   "metadata": {},
   "source": [
    "[Q5.]What is method overriding in python? Write a python code to demonstrate method overriding."
   ]
  },
  {
   "cell_type": "markdown",
   "id": "88169acf-e24a-4648-81b7-534529c46ba9",
   "metadata": {},
   "source": [
    "Method overriding is an ability of any object-oriented programming language that allows a subclass or child class to provide a specific implementation of a method that is already provided by one of its super-classes or parent classes. "
   ]
  },
  {
   "cell_type": "markdown",
   "id": "4cc2ceac-eb83-498f-83b5-16757d7db8dc",
   "metadata": {},
   "source": [
    "When a method in a subclass has the same name, same parameters or signature and same return type(or sub-type) as a method in its super-class, then the method in the subclass is said to override the method in the super-class."
   ]
  },
  {
   "cell_type": "code",
   "execution_count": 5,
   "id": "78cfd25b-ff14-43ae-833b-7bc9cc75957e",
   "metadata": {},
   "outputs": [],
   "source": [
    "#Ex \n",
    "class A:\n",
    "    def show(self):\n",
    "        print(\"In A show\")\n",
    "class B(A):\n",
    "    def show(self):\n",
    "        print(\"In B show\")"
   ]
  },
  {
   "cell_type": "code",
   "execution_count": 8,
   "id": "9808d646-c86f-4aa1-bb39-73b06e1a8022",
   "metadata": {},
   "outputs": [],
   "source": [
    "a= B()"
   ]
  },
  {
   "cell_type": "code",
   "execution_count": 9,
   "id": "c86ffb57-7b52-4b00-8516-3781e48221e7",
   "metadata": {},
   "outputs": [
    {
     "name": "stdout",
     "output_type": "stream",
     "text": [
      "In B show\n"
     ]
    }
   ],
   "source": [
    "a.show()"
   ]
  },
  {
   "cell_type": "markdown",
   "id": "8d7419c1-7a13-4524-a817-ea05bd08c547",
   "metadata": {},
   "source": [
    "Even If class A has the show method, here it overrides the parent class A."
   ]
  },
  {
   "cell_type": "code",
   "execution_count": null,
   "id": "42edfb2c-a33a-4df6-a7d7-de1a5efeeb36",
   "metadata": {},
   "outputs": [],
   "source": []
  }
 ],
 "metadata": {
  "kernelspec": {
   "display_name": "Python 3 (ipykernel)",
   "language": "python",
   "name": "python3"
  },
  "language_info": {
   "codemirror_mode": {
    "name": "ipython",
    "version": 3
   },
   "file_extension": ".py",
   "mimetype": "text/x-python",
   "name": "python",
   "nbconvert_exporter": "python",
   "pygments_lexer": "ipython3",
   "version": "3.10.8"
  }
 },
 "nbformat": 4,
 "nbformat_minor": 5
}
