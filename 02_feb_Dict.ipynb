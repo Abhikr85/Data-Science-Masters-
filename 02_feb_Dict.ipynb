{
 "cells": [
  {
   "cell_type": "code",
   "execution_count": 1,
   "id": "b6f2658d-c2a7-4dd5-9a30-e93e61506a19",
   "metadata": {},
   "outputs": [],
   "source": [
    "d= {}"
   ]
  },
  {
   "cell_type": "code",
   "execution_count": 2,
   "id": "1943aed8-80ee-4985-a5cb-deae7848c0e5",
   "metadata": {},
   "outputs": [
    {
     "data": {
      "text/plain": [
       "dict"
      ]
     },
     "execution_count": 2,
     "metadata": {},
     "output_type": "execute_result"
    }
   ],
   "source": [
    "type(d)"
   ]
  },
  {
   "cell_type": "code",
   "execution_count": 4,
   "id": "743c9076-799f-40bb-8c46-0f6336d271c5",
   "metadata": {},
   "outputs": [],
   "source": [
    "d1= {\"name\": \"Abhi\" , \"email_id\" : \"abhi@gmail.com\",\"number\":12345}\n"
   ]
  },
  {
   "cell_type": "code",
   "execution_count": 5,
   "id": "f8bd292d-0a9d-433e-a719-443c858885ce",
   "metadata": {},
   "outputs": [
    {
     "data": {
      "text/plain": [
       "dict"
      ]
     },
     "execution_count": 5,
     "metadata": {},
     "output_type": "execute_result"
    }
   ],
   "source": [
    "type(d1)"
   ]
  },
  {
   "cell_type": "code",
   "execution_count": 6,
   "id": "eec303e4-1f8f-4445-88ec-3e8a3b0da5fd",
   "metadata": {},
   "outputs": [
    {
     "data": {
      "text/plain": [
       "{'name': 'Abhi', 'email_id': 'abhi@gmail.com', 'number': 12345}"
      ]
     },
     "execution_count": 6,
     "metadata": {},
     "output_type": "execute_result"
    }
   ],
   "source": [
    "d1"
   ]
  },
  {
   "cell_type": "code",
   "execution_count": 7,
   "id": "96448a9e-a004-4dde-ad8d-c187eb3b8df4",
   "metadata": {},
   "outputs": [],
   "source": [
    "d2 = {\"name\" : \"sudh\", \"name\": \"abhi\"}"
   ]
  },
  {
   "cell_type": "code",
   "execution_count": 9,
   "id": "2cc903ad-0d43-4e1d-b314-b3c3f2186f5a",
   "metadata": {},
   "outputs": [
    {
     "data": {
      "text/plain": [
       "{'name': 'abhi'}"
      ]
     },
     "execution_count": 9,
     "metadata": {},
     "output_type": "execute_result"
    }
   ],
   "source": [
    "d2 #key should always be unique"
   ]
  },
  {
   "cell_type": "code",
   "execution_count": 10,
   "id": "88b35320-58e5-4398-b010-bf58473fb2bc",
   "metadata": {},
   "outputs": [],
   "source": [
    "d3 = {234234:\"abc\"}"
   ]
  },
  {
   "cell_type": "code",
   "execution_count": 12,
   "id": "16346515-cad9-496b-8f11-a2061dca009c",
   "metadata": {},
   "outputs": [
    {
     "data": {
      "text/plain": [
       "{234234: 'abc'}"
      ]
     },
     "execution_count": 12,
     "metadata": {},
     "output_type": "execute_result"
    }
   ],
   "source": [
    "d3 # key can be numeric, floating, boolean,string etc"
   ]
  },
  {
   "cell_type": "code",
   "execution_count": 13,
   "id": "c2a4a553-4265-4d6e-83d5-d881e44c3225",
   "metadata": {},
   "outputs": [],
   "source": [
    "d4 = {234.34: \"abc\"}"
   ]
  },
  {
   "cell_type": "code",
   "execution_count": 14,
   "id": "e7942bd7-a5e0-4860-9b63-c98ecf70a781",
   "metadata": {},
   "outputs": [
    {
     "data": {
      "text/plain": [
       "{234.34: 'abc'}"
      ]
     },
     "execution_count": 14,
     "metadata": {},
     "output_type": "execute_result"
    }
   ],
   "source": [
    "d4"
   ]
  },
  {
   "cell_type": "code",
   "execution_count": 15,
   "id": "ec6b08b6-c058-4797-bd3c-f9658bf83075",
   "metadata": {},
   "outputs": [],
   "source": [
    "d5 = { True:\"abc\"}"
   ]
  },
  {
   "cell_type": "code",
   "execution_count": 16,
   "id": "0ef0b2b7-588b-46a4-bf44-727ef5283710",
   "metadata": {},
   "outputs": [
    {
     "data": {
      "text/plain": [
       "{True: 'abc'}"
      ]
     },
     "execution_count": 16,
     "metadata": {},
     "output_type": "execute_result"
    }
   ],
   "source": [
    "d5"
   ]
  },
  {
   "cell_type": "code",
   "execution_count": 17,
   "id": "f64631b3-24f8-4b5f-8f73-118b5fdaf3f4",
   "metadata": {},
   "outputs": [
    {
     "ename": "SyntaxError",
     "evalue": "incomplete input (2644165523.py, line 1)",
     "output_type": "error",
     "traceback": [
      "\u001b[0;36m  Cell \u001b[0;32mIn[17], line 1\u001b[0;36m\u001b[0m\n\u001b[0;31m    d6 = {#: 'abc'}\u001b[0m\n\u001b[0m                   ^\u001b[0m\n\u001b[0;31mSyntaxError\u001b[0m\u001b[0;31m:\u001b[0m incomplete input\n"
     ]
    }
   ],
   "source": [
    "d6 = {#: 'abc'}"
   ]
  },
  {
   "cell_type": "code",
   "execution_count": 18,
   "id": "b31b53eb-2e7f-4d95-99ca-791dd215e2e8",
   "metadata": {},
   "outputs": [
    {
     "ename": "SyntaxError",
     "evalue": "invalid syntax (4104442778.py, line 1)",
     "output_type": "error",
     "traceback": [
      "\u001b[0;36m  Cell \u001b[0;32mIn[18], line 1\u001b[0;36m\u001b[0m\n\u001b[0;31m    d7 = { @: \"abc\"}\u001b[0m\n\u001b[0m           ^\u001b[0m\n\u001b[0;31mSyntaxError\u001b[0m\u001b[0;31m:\u001b[0m invalid syntax\n"
     ]
    }
   ],
   "source": [
    "d7 = { @: \"abc\"}"
   ]
  },
  {
   "cell_type": "code",
   "execution_count": 19,
   "id": "017353fa-f513-4f31-a42a-8fd925fe7ca1",
   "metadata": {},
   "outputs": [],
   "source": [
    "# key should not be special case character"
   ]
  },
  {
   "cell_type": "code",
   "execution_count": 20,
   "id": "3fcb7d9c-4f2a-476c-90cb-e3ca64668555",
   "metadata": {},
   "outputs": [
    {
     "ename": "TypeError",
     "evalue": "unhashable type: 'list'",
     "output_type": "error",
     "traceback": [
      "\u001b[0;31m---------------------------------------------------------------------------\u001b[0m",
      "\u001b[0;31mTypeError\u001b[0m                                 Traceback (most recent call last)",
      "Cell \u001b[0;32mIn[20], line 1\u001b[0m\n\u001b[0;32m----> 1\u001b[0m d8 \u001b[38;5;241m=\u001b[39m { [\u001b[38;5;241m1\u001b[39m,\u001b[38;5;241m2\u001b[39m,\u001b[38;5;241m3\u001b[39m]: \u001b[38;5;124m\"\u001b[39m\u001b[38;5;124mabc\u001b[39m\u001b[38;5;124m\"\u001b[39m}\n",
      "\u001b[0;31mTypeError\u001b[0m: unhashable type: 'list'"
     ]
    }
   ],
   "source": [
    "d8 = { [1,2,3]: \"abc\"}"
   ]
  },
  {
   "cell_type": "code",
   "execution_count": 21,
   "id": "04a9073e-1f83-4b39-85eb-48389b693079",
   "metadata": {},
   "outputs": [],
   "source": [
    "d9 = {(1,2,3): \"abc\"}"
   ]
  },
  {
   "cell_type": "code",
   "execution_count": 22,
   "id": "742af1d0-8f67-4224-9aa0-f6b1dd0a59da",
   "metadata": {},
   "outputs": [
    {
     "data": {
      "text/plain": [
       "{(1, 2, 3): 'abc'}"
      ]
     },
     "execution_count": 22,
     "metadata": {},
     "output_type": "execute_result"
    }
   ],
   "source": [
    "d9"
   ]
  },
  {
   "cell_type": "code",
   "execution_count": 23,
   "id": "35e7a0a1-9e7e-4fa7-95e5-6eae8da4bac8",
   "metadata": {},
   "outputs": [
    {
     "ename": "TypeError",
     "evalue": "unhashable type: 'set'",
     "output_type": "error",
     "traceback": [
      "\u001b[0;31m---------------------------------------------------------------------------\u001b[0m",
      "\u001b[0;31mTypeError\u001b[0m                                 Traceback (most recent call last)",
      "Cell \u001b[0;32mIn[23], line 1\u001b[0m\n\u001b[0;32m----> 1\u001b[0m d10 \u001b[38;5;241m=\u001b[39m {{\u001b[38;5;241m1\u001b[39m,\u001b[38;5;241m2\u001b[39m,}:\u001b[38;5;124m\"\u001b[39m\u001b[38;5;124mabc\u001b[39m\u001b[38;5;124m\"\u001b[39m}\n",
      "\u001b[0;31mTypeError\u001b[0m: unhashable type: 'set'"
     ]
    }
   ],
   "source": [
    "d10 = {{1,2,}:\"abc\"}"
   ]
  },
  {
   "cell_type": "code",
   "execution_count": 24,
   "id": "095c6a4b-8bf6-481d-bc9d-fa7d2824bfe9",
   "metadata": {},
   "outputs": [
    {
     "ename": "TypeError",
     "evalue": "unhashable type: 'dict'",
     "output_type": "error",
     "traceback": [
      "\u001b[0;31m---------------------------------------------------------------------------\u001b[0m",
      "\u001b[0;31mTypeError\u001b[0m                                 Traceback (most recent call last)",
      "Cell \u001b[0;32mIn[24], line 1\u001b[0m\n\u001b[0;32m----> 1\u001b[0m d11 \u001b[38;5;241m=\u001b[39m {{\u001b[38;5;124m\"\u001b[39m\u001b[38;5;124mkey\u001b[39m\u001b[38;5;124m\"\u001b[39m:\u001b[38;5;241m234\u001b[39m}:\u001b[38;5;124m\"\u001b[39m\u001b[38;5;124mABC\u001b[39m\u001b[38;5;124m\"\u001b[39m}\n",
      "\u001b[0;31mTypeError\u001b[0m: unhashable type: 'dict'"
     ]
    }
   ],
   "source": [
    "d11 = {{\"key\":234}:\"ABC\"}"
   ]
  },
  {
   "cell_type": "code",
   "execution_count": 26,
   "id": "63934774-ad53-4847-a934-7d0315f7a928",
   "metadata": {},
   "outputs": [],
   "source": [
    "#KEY----only tuple allowed , key always unique"
   ]
  },
  {
   "cell_type": "code",
   "execution_count": 28,
   "id": "94b838da-3780-4205-bb10-548638064f2e",
   "metadata": {},
   "outputs": [],
   "source": [
    "d12= {\"course_name\" :[\"data science master\", \"web dev\", \"java with dsa\"]}"
   ]
  },
  {
   "cell_type": "code",
   "execution_count": 29,
   "id": "b1741370-77aa-403c-96b2-d34e5174a998",
   "metadata": {},
   "outputs": [
    {
     "data": {
      "text/plain": [
       "{'course_name': ['data science master', 'web dev', 'java with dsa']}"
      ]
     },
     "execution_count": 29,
     "metadata": {},
     "output_type": "execute_result"
    }
   ],
   "source": [
    "d12"
   ]
  },
  {
   "cell_type": "code",
   "execution_count": 30,
   "id": "1dcea52a-558c-42e2-81be-a53fd45d12fb",
   "metadata": {},
   "outputs": [],
   "source": [
    "d13 = {\"key\": (1,2,3,4)} #value can be tuple"
   ]
  },
  {
   "cell_type": "code",
   "execution_count": 32,
   "id": "d1930781-3fb0-4bcc-b9d0-e42f21f082f0",
   "metadata": {},
   "outputs": [],
   "source": [
    "d14 = {\"key\" : {1,2,3,4}} # value can be set, list, dict"
   ]
  },
  {
   "cell_type": "code",
   "execution_count": 35,
   "id": "de40c1cf-141c-4a1a-8a20-71de18215b6d",
   "metadata": {},
   "outputs": [],
   "source": [
    "d15 = { \"key\" :{\"name\": \"abhi\", \"age\":25, \"loc\":\"Pune\"}}"
   ]
  },
  {
   "cell_type": "code",
   "execution_count": 36,
   "id": "c4ef25db-25df-4cee-a8e0-43a513865758",
   "metadata": {},
   "outputs": [
    {
     "data": {
      "text/plain": [
       "{'key': {'name': 'abhi', 'age': 25, 'loc': 'Pune'}}"
      ]
     },
     "execution_count": 36,
     "metadata": {},
     "output_type": "execute_result"
    }
   ],
   "source": [
    "d15"
   ]
  },
  {
   "cell_type": "code",
   "execution_count": null,
   "id": "2bb74adf-dbf4-4042-8754-d759afe2a325",
   "metadata": {},
   "outputs": [],
   "source": []
  },
  {
   "cell_type": "code",
   "execution_count": 37,
   "id": "1ed4cb95-c737-438f-8603-c20c291f0644",
   "metadata": {},
   "outputs": [],
   "source": [
    "d16 = {\"batch_name\":[\"data science master\", \"web dev\", \"JDS\"], \"start_date\":(28,14,21), \"mentor_name\":{\"krish naik\", \"sudhanshu\", \"hitesh\", \"anurag\"}}"
   ]
  },
  {
   "cell_type": "code",
   "execution_count": 38,
   "id": "3bd14813-3838-41fb-835f-3b202dd7971d",
   "metadata": {},
   "outputs": [
    {
     "data": {
      "text/plain": [
       "{'batch_name': ['data science master', 'web dev', 'JDS'],\n",
       " 'start_date': (28, 14, 21),\n",
       " 'mentor_name': {'anurag', 'hitesh', 'krish naik', 'sudhanshu'}}"
      ]
     },
     "execution_count": 38,
     "metadata": {},
     "output_type": "execute_result"
    }
   ],
   "source": [
    "d16"
   ]
  },
  {
   "cell_type": "code",
   "execution_count": 39,
   "id": "5f40fd6b-0e04-41ea-95af-21cb1be79122",
   "metadata": {},
   "outputs": [],
   "source": [
    "d16[\"timing\"] = (8,8,8)"
   ]
  },
  {
   "cell_type": "code",
   "execution_count": 40,
   "id": "01001d74-9cb3-41bb-9187-caa6123d9a2a",
   "metadata": {},
   "outputs": [
    {
     "data": {
      "text/plain": [
       "{'batch_name': ['data science master', 'web dev', 'JDS'],\n",
       " 'start_date': (28, 14, 21),\n",
       " 'mentor_name': {'anurag', 'hitesh', 'krish naik', 'sudhanshu'},\n",
       " 'timing': (8, 8, 8)}"
      ]
     },
     "execution_count": 40,
     "metadata": {},
     "output_type": "execute_result"
    }
   ],
   "source": [
    "d16"
   ]
  },
  {
   "cell_type": "code",
   "execution_count": 41,
   "id": "1d2903fb-9357-4bbd-9836-cb3f2bf9cce6",
   "metadata": {},
   "outputs": [
    {
     "ename": "KeyError",
     "evalue": "0",
     "output_type": "error",
     "traceback": [
      "\u001b[0;31m---------------------------------------------------------------------------\u001b[0m",
      "\u001b[0;31mKeyError\u001b[0m                                  Traceback (most recent call last)",
      "Cell \u001b[0;32mIn[41], line 1\u001b[0m\n\u001b[0;32m----> 1\u001b[0m \u001b[43md16\u001b[49m\u001b[43m[\u001b[49m\u001b[38;5;241;43m0\u001b[39;49m\u001b[43m]\u001b[49m[\u001b[38;5;241m0\u001b[39m]\n",
      "\u001b[0;31mKeyError\u001b[0m: 0"
     ]
    }
   ],
   "source": [
    "d16[0][0]"
   ]
  },
  {
   "cell_type": "code",
   "execution_count": 42,
   "id": "059aa022-a389-49fc-b956-7b7aedd82254",
   "metadata": {},
   "outputs": [
    {
     "data": {
      "text/plain": [
       "['data science master', 'web dev', 'JDS']"
      ]
     },
     "execution_count": 42,
     "metadata": {},
     "output_type": "execute_result"
    }
   ],
   "source": [
    "d16[\"batch_name\"]"
   ]
  },
  {
   "cell_type": "code",
   "execution_count": 44,
   "id": "58cc703e-9d3b-49c4-9f89-5b3adedb52c6",
   "metadata": {},
   "outputs": [
    {
     "data": {
      "text/plain": [
       "{'anurag', 'hitesh', 'krish naik', 'sudhanshu'}"
      ]
     },
     "execution_count": 44,
     "metadata": {},
     "output_type": "execute_result"
    }
   ],
   "source": [
    "d16[\"mentor_name\"]"
   ]
  },
  {
   "cell_type": "code",
   "execution_count": 45,
   "id": "af2dfca0-6de2-4825-afec-804228f881c6",
   "metadata": {},
   "outputs": [
    {
     "data": {
      "text/plain": [
       "set"
      ]
     },
     "execution_count": 45,
     "metadata": {},
     "output_type": "execute_result"
    }
   ],
   "source": [
    "type(d16[\"mentor_name\"])"
   ]
  },
  {
   "cell_type": "code",
   "execution_count": 46,
   "id": "eaeb89e9-0d8a-4280-be02-700904b7bb51",
   "metadata": {},
   "outputs": [
    {
     "ename": "KeyError",
     "evalue": "'key'",
     "output_type": "error",
     "traceback": [
      "\u001b[0;31m---------------------------------------------------------------------------\u001b[0m",
      "\u001b[0;31mKeyError\u001b[0m                                  Traceback (most recent call last)",
      "Cell \u001b[0;32mIn[46], line 1\u001b[0m\n\u001b[0;32m----> 1\u001b[0m \u001b[43md16\u001b[49m\u001b[43m[\u001b[49m\u001b[38;5;124;43m\"\u001b[39;49m\u001b[38;5;124;43mkey\u001b[39;49m\u001b[38;5;124;43m\"\u001b[39;49m\u001b[43m]\u001b[49m\n",
      "\u001b[0;31mKeyError\u001b[0m: 'key'"
     ]
    }
   ],
   "source": [
    "d16[\"key\"]"
   ]
  },
  {
   "cell_type": "code",
   "execution_count": 47,
   "id": "a74dc6f1-545a-4fda-9e92-6db017cbdd57",
   "metadata": {},
   "outputs": [],
   "source": [
    "d16[\"name\"] = \"abhishek\""
   ]
  },
  {
   "cell_type": "code",
   "execution_count": 48,
   "id": "ecccf985-b3c3-4c65-a88e-f138b2a08bf1",
   "metadata": {},
   "outputs": [
    {
     "data": {
      "text/plain": [
       "{'batch_name': ['data science master', 'web dev', 'JDS'],\n",
       " 'start_date': (28, 14, 21),\n",
       " 'mentor_name': {'anurag', 'hitesh', 'krish naik', 'sudhanshu'},\n",
       " 'timing': (8, 8, 8),\n",
       " 'name': 'abhishek'}"
      ]
     },
     "execution_count": 48,
     "metadata": {},
     "output_type": "execute_result"
    }
   ],
   "source": [
    "d16"
   ]
  },
  {
   "cell_type": "code",
   "execution_count": 50,
   "id": "c5225671-bca1-4b79-ae06-cbca91bf2720",
   "metadata": {},
   "outputs": [
    {
     "data": {
      "text/plain": [
       "'abhishek'"
      ]
     },
     "execution_count": 50,
     "metadata": {},
     "output_type": "execute_result"
    }
   ],
   "source": [
    "d16[\"name\"]"
   ]
  },
  {
   "cell_type": "code",
   "execution_count": 52,
   "id": "54bf5226-00f3-4292-84da-c0ecf09a53f2",
   "metadata": {},
   "outputs": [
    {
     "data": {
      "text/plain": [
       "'ABHISHEK'"
      ]
     },
     "execution_count": 52,
     "metadata": {},
     "output_type": "execute_result"
    }
   ],
   "source": [
    "d16[\"name\"].upper()"
   ]
  },
  {
   "cell_type": "code",
   "execution_count": 53,
   "id": "7918f5f0-cb76-4bb4-9444-3361caf08fb7",
   "metadata": {},
   "outputs": [
    {
     "data": {
      "text/plain": [
       "{'key': {'name': 'abhi', 'age': 25, 'loc': 'Pune'}}"
      ]
     },
     "execution_count": 53,
     "metadata": {},
     "output_type": "execute_result"
    }
   ],
   "source": [
    "d15"
   ]
  },
  {
   "cell_type": "code",
   "execution_count": 54,
   "id": "b9ac6166-3b5d-41cc-b8c4-71fbb1aa961f",
   "metadata": {},
   "outputs": [
    {
     "data": {
      "text/plain": [
       "{'name': 'abhi', 'age': 25, 'loc': 'Pune'}"
      ]
     },
     "execution_count": 54,
     "metadata": {},
     "output_type": "execute_result"
    }
   ],
   "source": [
    "d15['key']"
   ]
  },
  {
   "cell_type": "code",
   "execution_count": 55,
   "id": "7b5251e6-6c41-4827-a867-8b25f0cc09ac",
   "metadata": {},
   "outputs": [
    {
     "data": {
      "text/plain": [
       "dict"
      ]
     },
     "execution_count": 55,
     "metadata": {},
     "output_type": "execute_result"
    }
   ],
   "source": [
    "type(d15['key'])"
   ]
  },
  {
   "cell_type": "code",
   "execution_count": 56,
   "id": "201e04a4-8907-4850-9be5-1d6754f2130a",
   "metadata": {},
   "outputs": [
    {
     "data": {
      "text/plain": [
       "'Pune'"
      ]
     },
     "execution_count": 56,
     "metadata": {},
     "output_type": "execute_result"
    }
   ],
   "source": [
    "d15['key']['loc']"
   ]
  },
  {
   "cell_type": "code",
   "execution_count": 57,
   "id": "1216f2d6-eac0-451e-ba52-98487980bfe8",
   "metadata": {},
   "outputs": [],
   "source": [
    "d15[\"key1\"] = \"abc\""
   ]
  },
  {
   "cell_type": "code",
   "execution_count": 58,
   "id": "876ea1ae-c3b4-4321-a0cc-2397a5bb4461",
   "metadata": {},
   "outputs": [
    {
     "data": {
      "text/plain": [
       "{'key': {'name': 'abhi', 'age': 25, 'loc': 'Pune'}, 'key1': 'abc'}"
      ]
     },
     "execution_count": 58,
     "metadata": {},
     "output_type": "execute_result"
    }
   ],
   "source": [
    "d15"
   ]
  },
  {
   "cell_type": "code",
   "execution_count": 59,
   "id": "5b999858-b4c2-4908-bf71-40cf374fe401",
   "metadata": {},
   "outputs": [],
   "source": [
    "del d15['key1']"
   ]
  },
  {
   "cell_type": "code",
   "execution_count": 60,
   "id": "2d0d1801-4da1-47c5-825f-ceb5b3969292",
   "metadata": {},
   "outputs": [
    {
     "data": {
      "text/plain": [
       "{'key': {'name': 'abhi', 'age': 25, 'loc': 'Pune'}}"
      ]
     },
     "execution_count": 60,
     "metadata": {},
     "output_type": "execute_result"
    }
   ],
   "source": [
    "d15"
   ]
  },
  {
   "cell_type": "code",
   "execution_count": 61,
   "id": "4b0ca503-f6dc-43bd-8c02-d997acdc4b0a",
   "metadata": {},
   "outputs": [],
   "source": [
    "d15.clear()"
   ]
  },
  {
   "cell_type": "code",
   "execution_count": 62,
   "id": "fc8fd902-eb6c-4418-93e2-9e519cc0c13b",
   "metadata": {},
   "outputs": [
    {
     "data": {
      "text/plain": [
       "{}"
      ]
     },
     "execution_count": 62,
     "metadata": {},
     "output_type": "execute_result"
    }
   ],
   "source": [
    "d15"
   ]
  },
  {
   "cell_type": "code",
   "execution_count": 65,
   "id": "1f0af475-576c-4402-a7df-807ba0b42169",
   "metadata": {},
   "outputs": [
    {
     "data": {
      "text/plain": [
       "{'batch_name': ['data science master', 'web dev', 'JDS'],\n",
       " 'start_date': (28, 14, 21),\n",
       " 'mentor_name': {'anurag', 'hitesh', 'krish naik', 'sudhanshu'},\n",
       " 'timing': (8, 8, 8),\n",
       " 'name': 'abhishek'}"
      ]
     },
     "execution_count": 65,
     "metadata": {},
     "output_type": "execute_result"
    }
   ],
   "source": [
    "d16"
   ]
  },
  {
   "cell_type": "code",
   "execution_count": null,
   "id": "a3151868-f8ab-40ff-89c1-3ecb64230f57",
   "metadata": {},
   "outputs": [],
   "source": []
  },
  {
   "cell_type": "code",
   "execution_count": 66,
   "id": "e69d4d62-aa91-4443-b9a1-31a95c65846c",
   "metadata": {},
   "outputs": [
    {
     "data": {
      "text/plain": [
       "5"
      ]
     },
     "execution_count": 66,
     "metadata": {},
     "output_type": "execute_result"
    }
   ],
   "source": [
    "len(d16)"
   ]
  },
  {
   "cell_type": "code",
   "execution_count": 69,
   "id": "50d7c447-bfef-4a49-82e1-2c34998c5b60",
   "metadata": {},
   "outputs": [
    {
     "data": {
      "text/plain": [
       "dict_keys(['batch_name', 'start_date', 'mentor_name', 'timing', 'name'])"
      ]
     },
     "execution_count": 69,
     "metadata": {},
     "output_type": "execute_result"
    }
   ],
   "source": [
    "d16.keys() #extract all the keys"
   ]
  },
  {
   "cell_type": "code",
   "execution_count": 70,
   "id": "69a6f58c-8271-4f18-aac2-f455f0bbd873",
   "metadata": {},
   "outputs": [
    {
     "data": {
      "text/plain": [
       "dict_values([['data science master', 'web dev', 'JDS'], (28, 14, 21), {'sudhanshu', 'anurag', 'hitesh', 'krish naik'}, (8, 8, 8), 'abhishek'])"
      ]
     },
     "execution_count": 70,
     "metadata": {},
     "output_type": "execute_result"
    }
   ],
   "source": [
    "d16.values()"
   ]
  },
  {
   "cell_type": "code",
   "execution_count": 71,
   "id": "b59d259c-ca2d-4563-8d4d-3cdfd6ee2c1e",
   "metadata": {},
   "outputs": [
    {
     "data": {
      "text/plain": [
       "[['data science master', 'web dev', 'JDS'],\n",
       " (28, 14, 21),\n",
       " {'anurag', 'hitesh', 'krish naik', 'sudhanshu'},\n",
       " (8, 8, 8),\n",
       " 'abhishek']"
      ]
     },
     "execution_count": 71,
     "metadata": {},
     "output_type": "execute_result"
    }
   ],
   "source": [
    "list(d16.values())"
   ]
  },
  {
   "cell_type": "code",
   "execution_count": 72,
   "id": "79852f1b-cbde-4a70-9754-73503815c696",
   "metadata": {},
   "outputs": [
    {
     "data": {
      "text/plain": [
       "['batch_name', 'start_date', 'mentor_name', 'timing', 'name']"
      ]
     },
     "execution_count": 72,
     "metadata": {},
     "output_type": "execute_result"
    }
   ],
   "source": [
    "list(d16.keys())"
   ]
  },
  {
   "cell_type": "code",
   "execution_count": 73,
   "id": "6f218f5d-6e22-44ff-b77e-dd4931e14d8d",
   "metadata": {},
   "outputs": [
    {
     "data": {
      "text/plain": [
       "dict_items([('batch_name', ['data science master', 'web dev', 'JDS']), ('start_date', (28, 14, 21)), ('mentor_name', {'sudhanshu', 'anurag', 'hitesh', 'krish naik'}), ('timing', (8, 8, 8)), ('name', 'abhishek')])"
      ]
     },
     "execution_count": 73,
     "metadata": {},
     "output_type": "execute_result"
    }
   ],
   "source": [
    "d16.items()"
   ]
  },
  {
   "cell_type": "code",
   "execution_count": 74,
   "id": "98f46b81-fd40-433b-b52b-8d6958c6be2c",
   "metadata": {},
   "outputs": [
    {
     "data": {
      "text/plain": [
       "[('batch_name', ['data science master', 'web dev', 'JDS']),\n",
       " ('start_date', (28, 14, 21)),\n",
       " ('mentor_name', {'anurag', 'hitesh', 'krish naik', 'sudhanshu'}),\n",
       " ('timing', (8, 8, 8)),\n",
       " ('name', 'abhishek')]"
      ]
     },
     "execution_count": 74,
     "metadata": {},
     "output_type": "execute_result"
    }
   ],
   "source": [
    "list(d16.items())"
   ]
  },
  {
   "cell_type": "code",
   "execution_count": 75,
   "id": "f156c6af-e22a-4f25-b0ed-80f58b3648c4",
   "metadata": {},
   "outputs": [
    {
     "data": {
      "text/plain": [
       "{'batch_name': ['data science master', 'web dev', 'JDS'],\n",
       " 'start_date': (28, 14, 21),\n",
       " 'mentor_name': {'anurag', 'hitesh', 'krish naik', 'sudhanshu'},\n",
       " 'timing': (8, 8, 8),\n",
       " 'name': 'abhishek'}"
      ]
     },
     "execution_count": 75,
     "metadata": {},
     "output_type": "execute_result"
    }
   ],
   "source": [
    "d16"
   ]
  },
  {
   "cell_type": "code",
   "execution_count": 76,
   "id": "5eaa73ad-e9f9-4f7e-b646-faf00c0eb59b",
   "metadata": {},
   "outputs": [],
   "source": [
    "d17 = d16.copy()"
   ]
  },
  {
   "cell_type": "code",
   "execution_count": 79,
   "id": "d8fe940d-dc87-4736-b1e0-d14d35381a2f",
   "metadata": {},
   "outputs": [
    {
     "data": {
      "text/plain": [
       "{'batch_name': ['data science master', 'web dev', 'JDS'],\n",
       " 'start_date': (28, 14, 21),\n",
       " 'mentor_name': {'anurag', 'hitesh', 'krish naik', 'sudhanshu'},\n",
       " 'timing': (8, 8, 8),\n",
       " 'name': 'abhishek'}"
      ]
     },
     "execution_count": 79,
     "metadata": {},
     "output_type": "execute_result"
    }
   ],
   "source": [
    "d17 #same thing but diff variable"
   ]
  },
  {
   "cell_type": "code",
   "execution_count": 80,
   "id": "00bbf15b-02ff-4dda-bc44-00c2218a1462",
   "metadata": {},
   "outputs": [],
   "source": [
    "d18 = d16 "
   ]
  },
  {
   "cell_type": "code",
   "execution_count": 81,
   "id": "25742984-3e0f-45e4-ad98-b2550c8d3cd2",
   "metadata": {},
   "outputs": [
    {
     "data": {
      "text/plain": [
       "{'batch_name': ['data science master', 'web dev', 'JDS'],\n",
       " 'start_date': (28, 14, 21),\n",
       " 'mentor_name': {'anurag', 'hitesh', 'krish naik', 'sudhanshu'},\n",
       " 'timing': (8, 8, 8),\n",
       " 'name': 'abhishek'}"
      ]
     },
     "execution_count": 81,
     "metadata": {},
     "output_type": "execute_result"
    }
   ],
   "source": [
    "d18"
   ]
  },
  {
   "cell_type": "markdown",
   "id": "192d878d-e665-4705-a711-bea4c7825e76",
   "metadata": {},
   "source": [
    "### both copy, but diff is copy method do deep copy and change in one , not effect others, diff memory location"
   ]
  },
  {
   "cell_type": "code",
   "execution_count": 82,
   "id": "aac31853-d4ec-4fc9-b277-c646e326cebb",
   "metadata": {},
   "outputs": [],
   "source": [
    "del d16[\"name\"]"
   ]
  },
  {
   "cell_type": "code",
   "execution_count": 83,
   "id": "d44d8a84-698f-4375-8d85-e0317a8228b9",
   "metadata": {},
   "outputs": [
    {
     "data": {
      "text/plain": [
       "{'batch_name': ['data science master', 'web dev', 'JDS'],\n",
       " 'start_date': (28, 14, 21),\n",
       " 'mentor_name': {'anurag', 'hitesh', 'krish naik', 'sudhanshu'},\n",
       " 'timing': (8, 8, 8)}"
      ]
     },
     "execution_count": 83,
     "metadata": {},
     "output_type": "execute_result"
    }
   ],
   "source": [
    "d16"
   ]
  },
  {
   "cell_type": "code",
   "execution_count": 85,
   "id": "6f134db0-63aa-4ea3-a616-f65899ea9cbf",
   "metadata": {},
   "outputs": [
    {
     "data": {
      "text/plain": [
       "{'batch_name': ['data science master', 'web dev', 'JDS'],\n",
       " 'start_date': (28, 14, 21),\n",
       " 'mentor_name': {'anurag', 'hitesh', 'krish naik', 'sudhanshu'},\n",
       " 'timing': (8, 8, 8),\n",
       " 'name': 'abhishek'}"
      ]
     },
     "execution_count": 85,
     "metadata": {},
     "output_type": "execute_result"
    }
   ],
   "source": [
    "d17 #no effect on d17"
   ]
  },
  {
   "cell_type": "code",
   "execution_count": 86,
   "id": "57632da2-77a5-4192-8934-d36c659267f5",
   "metadata": {},
   "outputs": [
    {
     "data": {
      "text/plain": [
       "{'batch_name': ['data science master', 'web dev', 'JDS'],\n",
       " 'start_date': (28, 14, 21),\n",
       " 'mentor_name': {'anurag', 'hitesh', 'krish naik', 'sudhanshu'},\n",
       " 'timing': (8, 8, 8)}"
      ]
     },
     "execution_count": 86,
     "metadata": {},
     "output_type": "execute_result"
    }
   ],
   "source": [
    "d18"
   ]
  },
  {
   "cell_type": "markdown",
   "id": "b9d17c57-68b8-4093-8e00-9191957dbe2b",
   "metadata": {},
   "source": [
    "### as you can see, change in d16, effected d18, both point to same memory location, -- swallow copying"
   ]
  },
  {
   "cell_type": "code",
   "execution_count": 87,
   "id": "f56c5810-5608-41ec-8826-c0050777b5fb",
   "metadata": {},
   "outputs": [
    {
     "data": {
      "text/plain": [
       "{'batch_name': ['data science master', 'web dev', 'JDS'],\n",
       " 'start_date': (28, 14, 21),\n",
       " 'mentor_name': {'anurag', 'hitesh', 'krish naik', 'sudhanshu'},\n",
       " 'timing': (8, 8, 8)}"
      ]
     },
     "execution_count": 87,
     "metadata": {},
     "output_type": "execute_result"
    }
   ],
   "source": [
    "d16"
   ]
  },
  {
   "cell_type": "code",
   "execution_count": 89,
   "id": "4016d252-c366-4b00-a77c-1184d1802ca1",
   "metadata": {},
   "outputs": [
    {
     "ename": "TypeError",
     "evalue": "pop expected at least 1 argument, got 0",
     "output_type": "error",
     "traceback": [
      "\u001b[0;31m---------------------------------------------------------------------------\u001b[0m",
      "\u001b[0;31mTypeError\u001b[0m                                 Traceback (most recent call last)",
      "Cell \u001b[0;32mIn[89], line 1\u001b[0m\n\u001b[0;32m----> 1\u001b[0m \u001b[43md16\u001b[49m\u001b[38;5;241;43m.\u001b[39;49m\u001b[43mpop\u001b[49m\u001b[43m(\u001b[49m\u001b[43m)\u001b[49m \u001b[38;5;66;03m#need the arg, unlie list\u001b[39;00m\n",
      "\u001b[0;31mTypeError\u001b[0m: pop expected at least 1 argument, got 0"
     ]
    }
   ],
   "source": [
    "d16.pop() #need the arg, unlie list"
   ]
  },
  {
   "cell_type": "code",
   "execution_count": 97,
   "id": "de03cbea-9424-4297-b015-9a8899133d4b",
   "metadata": {},
   "outputs": [
    {
     "data": {
      "text/plain": [
       "(8, 8, 8)"
      ]
     },
     "execution_count": 97,
     "metadata": {},
     "output_type": "execute_result"
    }
   ],
   "source": [
    "d16.pop(\"timing\")"
   ]
  },
  {
   "cell_type": "code",
   "execution_count": 98,
   "id": "e4d8a266-7f7a-43e9-81ed-ef174751ac24",
   "metadata": {},
   "outputs": [
    {
     "data": {
      "text/plain": [
       "{'batch_name': ['data science master', 'web dev', 'JDS'],\n",
       " 'start_date': (28, 14, 21),\n",
       " 'mentor_name': {'anurag', 'hitesh', 'krish naik', 'sudhanshu'}}"
      ]
     },
     "execution_count": 98,
     "metadata": {},
     "output_type": "execute_result"
    }
   ],
   "source": [
    "d16"
   ]
  },
  {
   "cell_type": "code",
   "execution_count": 99,
   "id": "ce8a412d-f503-428b-a8ee-3568884bc24b",
   "metadata": {},
   "outputs": [
    {
     "data": {
      "text/plain": [
       "{'anurag', 'hitesh', 'krish naik', 'sudhanshu'}"
      ]
     },
     "execution_count": 99,
     "metadata": {},
     "output_type": "execute_result"
    }
   ],
   "source": [
    "d16.pop(\"mentor_name\")"
   ]
  },
  {
   "cell_type": "code",
   "execution_count": 101,
   "id": "e31c9acb-037b-4195-850d-5dfd7b4e68c0",
   "metadata": {},
   "outputs": [
    {
     "data": {
      "text/plain": [
       "{1: ('a', 'b', 'c'), 2: ('a', 'b', 'c'), 3: ('a', 'b', 'c')}"
      ]
     },
     "execution_count": 101,
     "metadata": {},
     "output_type": "execute_result"
    }
   ],
   "source": [
    "d.fromkeys((1,2,3) , ('a','b','c')) #create a new dict"
   ]
  },
  {
   "cell_type": "code",
   "execution_count": 102,
   "id": "0e492c01-9fb0-4aa8-9e91-81feea7cd464",
   "metadata": {},
   "outputs": [],
   "source": [
    "d19 ={'key1': \"value1\", \"key2\":\"value2\"}\n",
    "d20 = {'key3': \"value3\", \"key4\":\"value4\"}"
   ]
  },
  {
   "cell_type": "code",
   "execution_count": 103,
   "id": "4a3de3b6-9119-4cbb-87b6-1b1ea4d116a8",
   "metadata": {},
   "outputs": [
    {
     "data": {
      "text/plain": [
       "({'key1': 'value1', 'key2': 'value2'}, {'key3': 'value3', 'key4': 'value4'})"
      ]
     },
     "execution_count": 103,
     "metadata": {},
     "output_type": "execute_result"
    }
   ],
   "source": [
    "(d19,d20) #dict inside a tuple"
   ]
  },
  {
   "cell_type": "code",
   "execution_count": 104,
   "id": "bada3f58-5d0e-44f6-9107-aa0c4f546b5f",
   "metadata": {},
   "outputs": [],
   "source": [
    "d19.update(d20)"
   ]
  },
  {
   "cell_type": "code",
   "execution_count": 107,
   "id": "51ac92fa-12c3-4c56-94ac-29249559d734",
   "metadata": {},
   "outputs": [
    {
     "data": {
      "text/plain": [
       "{'key1': 'value1', 'key2': 'value2', 'key3': 'value3', 'key4': 'value4'}"
      ]
     },
     "execution_count": 107,
     "metadata": {},
     "output_type": "execute_result"
    }
   ],
   "source": [
    "d19 # copied d20 inside d19"
   ]
  },
  {
   "cell_type": "code",
   "execution_count": 108,
   "id": "3cb29641-eaa2-4796-9e16-f13a93bef307",
   "metadata": {},
   "outputs": [
    {
     "data": {
      "text/plain": [
       "{'key3': 'value3', 'key4': 'value4'}"
      ]
     },
     "execution_count": 108,
     "metadata": {},
     "output_type": "execute_result"
    }
   ],
   "source": [
    "d20"
   ]
  },
  {
   "cell_type": "code",
   "execution_count": 109,
   "id": "08732cb1-5a63-4dc2-bf6d-2c7b360de142",
   "metadata": {},
   "outputs": [],
   "source": [
    "d20.update(d19)"
   ]
  },
  {
   "cell_type": "code",
   "execution_count": 110,
   "id": "3748d182-a8cf-4c4c-ae4b-dfc8ac1a85ed",
   "metadata": {},
   "outputs": [
    {
     "data": {
      "text/plain": [
       "{'key3': 'value3', 'key4': 'value4', 'key1': 'value1', 'key2': 'value2'}"
      ]
     },
     "execution_count": 110,
     "metadata": {},
     "output_type": "execute_result"
    }
   ],
   "source": [
    "d20"
   ]
  },
  {
   "cell_type": "code",
   "execution_count": 117,
   "id": "baf93d6d-868e-46d4-8589-657feec82dfd",
   "metadata": {},
   "outputs": [],
   "source": [
    "d20.get(\"sudh\") #do nothing if key is not present"
   ]
  },
  {
   "cell_type": "code",
   "execution_count": 118,
   "id": "299f55e7-458d-4bf4-86d8-e7a996c47487",
   "metadata": {},
   "outputs": [
    {
     "data": {
      "text/plain": [
       "'value3'"
      ]
     },
     "execution_count": 118,
     "metadata": {},
     "output_type": "execute_result"
    }
   ],
   "source": [
    "d20.get(\"key3\")"
   ]
  },
  {
   "cell_type": "code",
   "execution_count": 119,
   "id": "abc5937f-ad38-438d-aec6-7f17819ebe10",
   "metadata": {},
   "outputs": [
    {
     "data": {
      "text/plain": [
       "'value3'"
      ]
     },
     "execution_count": 119,
     "metadata": {},
     "output_type": "execute_result"
    }
   ],
   "source": [
    "d20[\"key3\"]"
   ]
  },
  {
   "cell_type": "code",
   "execution_count": 120,
   "id": "30bdefb5-f6c2-4ef9-a7f1-a3371db2ecf7",
   "metadata": {},
   "outputs": [
    {
     "ename": "KeyError",
     "evalue": "'sudha'",
     "output_type": "error",
     "traceback": [
      "\u001b[0;31m---------------------------------------------------------------------------\u001b[0m",
      "\u001b[0;31mKeyError\u001b[0m                                  Traceback (most recent call last)",
      "Cell \u001b[0;32mIn[120], line 1\u001b[0m\n\u001b[0;32m----> 1\u001b[0m \u001b[43md20\u001b[49m\u001b[43m[\u001b[49m\u001b[38;5;124;43m\"\u001b[39;49m\u001b[38;5;124;43msudha\u001b[39;49m\u001b[38;5;124;43m\"\u001b[39;49m\u001b[43m]\u001b[49m \u001b[38;5;66;03m#throws an error if key is not present\u001b[39;00m\n",
      "\u001b[0;31mKeyError\u001b[0m: 'sudha'"
     ]
    }
   ],
   "source": [
    "d20[\"sudha\"] #throws an error if key is not present"
   ]
  },
  {
   "cell_type": "markdown",
   "id": "08d64b8a-0e0e-45de-b7ba-71a71728bf33",
   "metadata": {},
   "source": [
    "Dictionary Comprehension"
   ]
  },
  {
   "cell_type": "code",
   "execution_count": 122,
   "id": "56c478e9-9c7b-412c-b2a1-8572f720b27f",
   "metadata": {},
   "outputs": [
    {
     "data": {
      "text/plain": [
       "range(1, 11)"
      ]
     },
     "execution_count": 122,
     "metadata": {},
     "output_type": "execute_result"
    }
   ],
   "source": [
    "range(1,11)"
   ]
  },
  {
   "cell_type": "code",
   "execution_count": 123,
   "id": "84ae677f-60b0-45d0-a8cf-c407e8ae8637",
   "metadata": {},
   "outputs": [
    {
     "data": {
      "text/plain": [
       "{1: 1, 2: 4, 3: 9, 4: 16, 5: 25, 6: 36, 7: 49, 8: 64, 9: 81, 10: 100}"
      ]
     },
     "execution_count": 123,
     "metadata": {},
     "output_type": "execute_result"
    }
   ],
   "source": [
    "{ i : i**2 for i in range(1,11)}"
   ]
  },
  {
   "cell_type": "code",
   "execution_count": 124,
   "id": "21d20c8e-64c3-4d88-b3d8-a9e0170cb0df",
   "metadata": {},
   "outputs": [
    {
     "data": {
      "text/plain": [
       "{1: 11, 2: 12, 3: 13, 4: 14, 5: 15, 6: 16, 7: 17, 8: 18, 9: 19, 10: 20}"
      ]
     },
     "execution_count": 124,
     "metadata": {},
     "output_type": "execute_result"
    }
   ],
   "source": [
    "{ i : i+10 for i in range(1,11)}"
   ]
  },
  {
   "cell_type": "code",
   "execution_count": 129,
   "id": "1b25c669-c30b-437b-97b0-64ee26564dcf",
   "metadata": {},
   "outputs": [],
   "source": [
    "# Give log of numbers from 1 to 10 as a dict\n",
    "import math\n",
    "d21= { i : math.log10(i)  for i in range(1,11)}\n",
    "          "
   ]
  },
  {
   "cell_type": "code",
   "execution_count": 130,
   "id": "35daeb87-082e-4099-b921-342c9d4e63b3",
   "metadata": {},
   "outputs": [
    {
     "data": {
      "text/plain": [
       "{'batch_name': ['data science master', 'web dev', 'JDS'],\n",
       " 'start_date': (28, 14, 21)}"
      ]
     },
     "execution_count": 130,
     "metadata": {},
     "output_type": "execute_result"
    }
   ],
   "source": [
    "d16"
   ]
  },
  {
   "cell_type": "code",
   "execution_count": 131,
   "id": "64dbec07-6c97-4a49-b7cc-89669ce2615d",
   "metadata": {},
   "outputs": [
    {
     "data": {
      "text/plain": [
       "True"
      ]
     },
     "execution_count": 131,
     "metadata": {},
     "output_type": "execute_result"
    }
   ],
   "source": [
    "'batch_name' in d16 #check for the element"
   ]
  },
  {
   "cell_type": "code",
   "execution_count": 132,
   "id": "df05b8b1-b505-4216-a636-0b25f5570122",
   "metadata": {},
   "outputs": [
    {
     "data": {
      "text/plain": [
       "{1: 0.0,\n",
       " 2: 0.3010299956639812,\n",
       " 3: 0.47712125471966244,\n",
       " 4: 0.6020599913279624,\n",
       " 5: 0.6989700043360189,\n",
       " 6: 0.7781512503836436,\n",
       " 7: 0.8450980400142568,\n",
       " 8: 0.9030899869919435,\n",
       " 9: 0.9542425094393249,\n",
       " 10: 1.0}"
      ]
     },
     "execution_count": 132,
     "metadata": {},
     "output_type": "execute_result"
    }
   ],
   "source": [
    "d21"
   ]
  },
  {
   "cell_type": "code",
   "execution_count": 134,
   "id": "629891b6-851d-4e55-852c-1c6e782aa3f7",
   "metadata": {},
   "outputs": [
    {
     "name": "stdout",
     "output_type": "stream",
     "text": [
      "2 0.3010299956639812\n",
      "4 0.6020599913279624\n",
      "6 0.7781512503836436\n",
      "8 0.9030899869919435\n",
      "10 1.0\n"
     ]
    }
   ],
   "source": [
    "#filter those where keys are even number\n",
    "for i in d21.keys():\n",
    "    if i %2 == 0:\n",
    "        print(i, d21[i])"
   ]
  },
  {
   "cell_type": "code",
   "execution_count": null,
   "id": "fe480a44-0928-4f5b-ae1e-6974f23f7492",
   "metadata": {},
   "outputs": [],
   "source": []
  }
 ],
 "metadata": {
  "kernelspec": {
   "display_name": "Python 3 (ipykernel)",
   "language": "python",
   "name": "python3"
  },
  "language_info": {
   "codemirror_mode": {
    "name": "ipython",
    "version": 3
   },
   "file_extension": ".py",
   "mimetype": "text/x-python",
   "name": "python",
   "nbconvert_exporter": "python",
   "pygments_lexer": "ipython3",
   "version": "3.10.8"
  }
 },
 "nbformat": 4,
 "nbformat_minor": 5
}
