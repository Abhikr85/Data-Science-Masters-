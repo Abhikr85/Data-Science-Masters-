{
 "cells": [
  {
   "cell_type": "markdown",
   "id": "891d39e3-7ed5-4b1b-bc29-560897ffd7b9",
   "metadata": {},
   "source": [
    "[Q1.] Which keyword is used to create a function? Create a function to return a list of odd numbers in the\n",
    "range of 1 to 25."
   ]
  },
  {
   "cell_type": "markdown",
   "id": "80528814-066a-4f06-b9e5-583de64ac0e7",
   "metadata": {},
   "source": [
    "def keyword is used to create a function."
   ]
  },
  {
   "cell_type": "code",
   "execution_count": 2,
   "id": "f391f1c1-b51e-487e-a56b-f159abc66854",
   "metadata": {},
   "outputs": [],
   "source": [
    "def odd():\n",
    "    n=[]\n",
    "    for i in range(1,26):\n",
    "        if i%2 != 0:\n",
    "            n.append(i)\n",
    "    return n"
   ]
  },
  {
   "cell_type": "code",
   "execution_count": 4,
   "id": "b7c10153-1991-4668-9f60-c99c3bb5beda",
   "metadata": {},
   "outputs": [
    {
     "data": {
      "text/plain": [
       "[1, 3, 5, 7, 9, 11, 13, 15, 17, 19, 21, 23, 25]"
      ]
     },
     "execution_count": 4,
     "metadata": {},
     "output_type": "execute_result"
    }
   ],
   "source": [
    "odd()"
   ]
  },
  {
   "cell_type": "markdown",
   "id": "0d3ff26e-1055-4663-8c53-034888bbc1cc",
   "metadata": {},
   "source": [
    "[Q2.] Why *args and **kwargs is used in some functions? Create a function each for *args and **kwargs to\n",
    "demonstrate their use."
   ]
  },
  {
   "cell_type": "markdown",
   "id": "8fdc491a-0ec8-4318-b6d0-6af30fda6db1",
   "metadata": {},
   "source": [
    "* args is used to pass multiple argument and o/p is tuple while kwargs is used to pass argument as key-value pair and we get o/p as dictionary."
   ]
  },
  {
   "cell_type": "code",
   "execution_count": 13,
   "id": "64570c3e-e303-4b49-ad74-64012581d322",
   "metadata": {},
   "outputs": [],
   "source": [
    "def sum(*args):\n",
    "    sum = 0\n",
    "    for i in args:\n",
    "        sum = sum+i\n",
    "    return sum"
   ]
  },
  {
   "cell_type": "code",
   "execution_count": 14,
   "id": "7bd94372-7ecf-450d-8fae-08e83721a603",
   "metadata": {},
   "outputs": [
    {
     "data": {
      "text/plain": [
       "20"
      ]
     },
     "execution_count": 14,
     "metadata": {},
     "output_type": "execute_result"
    }
   ],
   "source": [
    "sum(2,3,4,5,6)"
   ]
  },
  {
   "cell_type": "code",
   "execution_count": 15,
   "id": "8c2ec78c-74e1-4d03-b450-cba37428d6ae",
   "metadata": {},
   "outputs": [],
   "source": [
    "def intro(**kwargs):\n",
    "    for key, value in kwargs.items():\n",
    "        print(\"{} is {}\".format(key,value))"
   ]
  },
  {
   "cell_type": "code",
   "execution_count": 16,
   "id": "4934b02f-0089-4c69-ba3f-cad42b319a0c",
   "metadata": {},
   "outputs": [
    {
     "name": "stdout",
     "output_type": "stream",
     "text": [
      "first_name is abhishek\n",
      "last_name is soni\n",
      "age is 25\n"
     ]
    }
   ],
   "source": [
    "intro(first_name= \"abhishek\", last_name = \"soni\", age=25)"
   ]
  },
  {
   "cell_type": "markdown",
   "id": "6fe2d26e-0416-40e7-8815-27045197e693",
   "metadata": {},
   "source": [
    "[Q3.] What is an iterator in python? Name the method used to initialise the iterator object and the method\n",
    "used for iteration. Use these methods to print the first five elements of the given list [2, 4, 6, 8, 10, 12, 14, 16,\n",
    "18, 20]."
   ]
  },
  {
   "cell_type": "markdown",
   "id": "c2525a8f-4f02-4cff-a6a6-f7ece17a8a7e",
   "metadata": {},
   "source": [
    " An iterator is an object that can be iterated upon, meaning that you can traverse through all the values. basically, an iterator is an object which implements the iterator protocol, which consist of the methods __iter__() and __next__() .\n",
    " _iter_ methos is used to convert iterable ( An iterable is any Python object capable of returning its members one at a time, permitting it to be iterated over in a for-loop.) into iterator. \n"
   ]
  },
  {
   "cell_type": "code",
   "execution_count": 41,
   "id": "0c9f173d-3780-4c5e-b205-56c770254ac4",
   "metadata": {},
   "outputs": [],
   "source": [
    "#Ex:\n",
    "list = [2,4,6,8,10,12,14,16,18,20]\n",
    "l = iter(list)"
   ]
  },
  {
   "cell_type": "code",
   "execution_count": 42,
   "id": "b54c6264-35e6-4d51-be7f-ff1c5d0e1499",
   "metadata": {},
   "outputs": [
    {
     "data": {
      "text/plain": [
       "2"
      ]
     },
     "execution_count": 42,
     "metadata": {},
     "output_type": "execute_result"
    }
   ],
   "source": [
    "#To iterate one by one , we can use next() method\n",
    "next(l)\n"
   ]
  },
  {
   "cell_type": "code",
   "execution_count": 43,
   "id": "1a777841-f02e-451c-9895-395de4cb560b",
   "metadata": {},
   "outputs": [
    {
     "data": {
      "text/plain": [
       "4"
      ]
     },
     "execution_count": 43,
     "metadata": {},
     "output_type": "execute_result"
    }
   ],
   "source": [
    "next(l)"
   ]
  },
  {
   "cell_type": "code",
   "execution_count": 44,
   "id": "f4473dcc-bffb-459d-a1a4-b3f3ee5a49c6",
   "metadata": {},
   "outputs": [
    {
     "data": {
      "text/plain": [
       "6"
      ]
     },
     "execution_count": 44,
     "metadata": {},
     "output_type": "execute_result"
    }
   ],
   "source": [
    "next(l)"
   ]
  },
  {
   "cell_type": "code",
   "execution_count": 45,
   "id": "ff481ce6-ecc4-4f72-adf9-fbb3d4c2a791",
   "metadata": {},
   "outputs": [
    {
     "data": {
      "text/plain": [
       "8"
      ]
     },
     "execution_count": 45,
     "metadata": {},
     "output_type": "execute_result"
    }
   ],
   "source": [
    "next(l)"
   ]
  },
  {
   "cell_type": "code",
   "execution_count": 46,
   "id": "08af033c-51be-4025-88d2-2923aad83060",
   "metadata": {},
   "outputs": [
    {
     "data": {
      "text/plain": [
       "10"
      ]
     },
     "execution_count": 46,
     "metadata": {},
     "output_type": "execute_result"
    }
   ],
   "source": [
    "next(l)"
   ]
  },
  {
   "cell_type": "markdown",
   "id": "b8ffdcc9-7272-4b27-99ad-e3a6b4a1a259",
   "metadata": {},
   "source": [
    "Q4. What is a generator function in python? Why yield keyword is used? Give an example of a generator\n",
    "function.\n",
    "In Python, a generator is a function that returns an iterator that produces a sequence of values when iterated over. Generators are useful when we want to produce a large sequence of values, but we don't want to store all of them in memory at once.\n",
    "Yield \n",
    "Yield functionality is very similar to return as it returns a value to the caller, but the difference is that it also saves the state of the iterator. Meaning that when we use the function again, the yield will resume the value from the place it left off.\n",
    "Example: Creating factorial of n using generator\n"
   ]
  },
  {
   "cell_type": "code",
   "execution_count": 56,
   "id": "933d13ab-bd34-406b-8109-61a31eca93af",
   "metadata": {},
   "outputs": [],
   "source": [
    "def fact(n):\n",
    "    a = 1\n",
    "    for i in range(1,n):\n",
    "        i = i * a\n",
    "        a = i\n",
    "        yield i\n",
    "        \n",
    "        "
   ]
  },
  {
   "cell_type": "code",
   "execution_count": 57,
   "id": "bf929397-ae3c-4294-9ef5-decdc50ac7e9",
   "metadata": {},
   "outputs": [
    {
     "name": "stdout",
     "output_type": "stream",
     "text": [
      "1\n",
      "2\n",
      "6\n",
      "24\n",
      "120\n",
      "720\n",
      "5040\n"
     ]
    }
   ],
   "source": [
    "for i in fact(8):\n",
    "    print(i)"
   ]
  },
  {
   "cell_type": "markdown",
   "id": "3eaa5672-2a97-477d-9967-ba929f29b91f",
   "metadata": {},
   "source": [
    "[Q5.] Create a generator function for prime numbers less than 1000. Use the next() method to print the\n",
    "first 20 prime numbers."
   ]
  },
  {
   "cell_type": "code",
   "execution_count": 91,
   "id": "90409d9d-6a92-4e9a-9961-9c0559e221f0",
   "metadata": {},
   "outputs": [],
   "source": [
    "def isPrime(num):\n",
    "    for i in range(2,num):\n",
    "        if num %i==0:\n",
    "            return False\n",
    "    return True\n",
    "    \n",
    "def prime_gen(n):\n",
    "    num = 2\n",
    "    while n:\n",
    "        if isPrime(num):\n",
    "            yield num\n",
    "            n-=1\n",
    "        num += 1\n",
    "    return   "
   ]
  },
  {
   "cell_type": "code",
   "execution_count": 92,
   "id": "15b602c8-0ce6-4731-ac2d-b74d7db02921",
   "metadata": {},
   "outputs": [],
   "source": [
    "it = prime_gen(1000)\n"
   ]
  },
  {
   "cell_type": "code",
   "execution_count": 93,
   "id": "cfe058f5-5f6a-4f8a-bf59-42710c097a7a",
   "metadata": {},
   "outputs": [
    {
     "data": {
      "text/plain": [
       "2"
      ]
     },
     "execution_count": 93,
     "metadata": {},
     "output_type": "execute_result"
    }
   ],
   "source": [
    "for i in range (1,20)\n",
    "next(it)"
   ]
  },
  {
   "cell_type": "code",
   "execution_count": null,
   "id": "f95d674f-ae57-4bc1-ada0-fe13d8d2ab2d",
   "metadata": {},
   "outputs": [],
   "source": []
  }
 ],
 "metadata": {
  "kernelspec": {
   "display_name": "Python 3 (ipykernel)",
   "language": "python",
   "name": "python3"
  },
  "language_info": {
   "codemirror_mode": {
    "name": "ipython",
    "version": 3
   },
   "file_extension": ".py",
   "mimetype": "text/x-python",
   "name": "python",
   "nbconvert_exporter": "python",
   "pygments_lexer": "ipython3",
   "version": "3.10.8"
  }
 },
 "nbformat": 4,
 "nbformat_minor": 5
}
